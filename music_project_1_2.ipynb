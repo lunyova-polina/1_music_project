{
 "cells": [
  {
   "cell_type": "markdown",
   "metadata": {
    "id": "E0vqbgi9ay0H"
   },
   "source": [
    "# Яндекс.Музыка"
   ]
  },
  {
   "cell_type": "markdown",
   "metadata": {
    "id": "VUC88oWjTJw2"
   },
   "source": [
    "Сравнение Москвы и Петербурга окружено мифами. Например:\n",
    " * Москва — мегаполис, подчинённый жёсткому ритму рабочей недели;\n",
    " * Петербург — культурная столица, со своими вкусами.\n",
    "\n",
    "Некоторые мифы отражают действительность. Другие — пустые стереотипы. Бизнес должен отличать первые от вторых, чтобы принимать рациональные решения. На реальных данных Яндекс Музыки мы проверим гипотезы и сравним поведение пользователей двух столиц.\n",
    "\n",
    "**Цель исследования** - провера гипотез:\n",
    "1. Активность пользователей зависит от дня недели. Причём в Москве и Петербурге это проявляется по-разному;\n",
    "2. В понедельник утром в Москве преобладают одни жанры, а в Петербурге — другие. Так же и вечером пятницы преобладают разные жанры — в зависимости от города;\n",
    "3. Москва и Петербург предпочитают разные жанры музыки. В Москве чаще слушают поп-музыку, в Петербурге — русский рэп.\n",
    "\n",
    "**Ход исследования:**\n",
    "Нужно проверить данные на ошибки и оценить их влияние на исследование. Затем, на этапе предобработки поискать возможность исправить самые критичные ошибки данных.\n",
    " \n",
    "Таким образом, исследование пройдёт в три этапа:\n",
    " 1. Обзор данных;\n",
    " 2. Предобработка данных;\n",
    " 3. Проверка гипотез.\n",
    "\n"
   ]
  },
  {
   "cell_type": "markdown",
   "metadata": {},
   "source": [
    "# Описание данных:\n",
    "- `userID` — идентификатор пользователя;\n",
    "- `Track` — название трека;\n",
    "- `artist` — имя исполнителя;\n",
    "- `genre` — название жанра;\n",
    "- `City` — город пользователя;\n",
    "- `time` — время начала прослушивания;\n",
    "- `Day` — день недели."
   ]
  },
  {
   "cell_type": "markdown",
   "metadata": {
    "id": "Ml1hmfXC_Zcs"
   },
   "source": [
    "## 1 Обзор данных\n"
   ]
  },
  {
   "cell_type": "code",
   "execution_count": 1,
   "metadata": {
    "id": "AXN7PHPN_Zcs"
   },
   "outputs": [
    {
     "data": {
      "text/html": [
       "<div>\n",
       "<style scoped>\n",
       "    .dataframe tbody tr th:only-of-type {\n",
       "        vertical-align: middle;\n",
       "    }\n",
       "\n",
       "    .dataframe tbody tr th {\n",
       "        vertical-align: top;\n",
       "    }\n",
       "\n",
       "    .dataframe thead th {\n",
       "        text-align: right;\n",
       "    }\n",
       "</style>\n",
       "<table border=\"1\" class=\"dataframe\">\n",
       "  <thead>\n",
       "    <tr style=\"text-align: right;\">\n",
       "      <th></th>\n",
       "      <th>userID</th>\n",
       "      <th>Track</th>\n",
       "      <th>artist</th>\n",
       "      <th>genre</th>\n",
       "      <th>City</th>\n",
       "      <th>time</th>\n",
       "      <th>Day</th>\n",
       "    </tr>\n",
       "  </thead>\n",
       "  <tbody>\n",
       "    <tr>\n",
       "      <td>0</td>\n",
       "      <td>FFB692EC</td>\n",
       "      <td>Kamigata To Boots</td>\n",
       "      <td>The Mass Missile</td>\n",
       "      <td>rock</td>\n",
       "      <td>Saint-Petersburg</td>\n",
       "      <td>20:28:33</td>\n",
       "      <td>Wednesday</td>\n",
       "    </tr>\n",
       "    <tr>\n",
       "      <td>1</td>\n",
       "      <td>55204538</td>\n",
       "      <td>Delayed Because of Accident</td>\n",
       "      <td>Andreas Rönnberg</td>\n",
       "      <td>rock</td>\n",
       "      <td>Moscow</td>\n",
       "      <td>14:07:09</td>\n",
       "      <td>Friday</td>\n",
       "    </tr>\n",
       "    <tr>\n",
       "      <td>2</td>\n",
       "      <td>20EC38</td>\n",
       "      <td>Funiculì funiculà</td>\n",
       "      <td>Mario Lanza</td>\n",
       "      <td>pop</td>\n",
       "      <td>Saint-Petersburg</td>\n",
       "      <td>20:58:07</td>\n",
       "      <td>Wednesday</td>\n",
       "    </tr>\n",
       "    <tr>\n",
       "      <td>3</td>\n",
       "      <td>A3DD03C9</td>\n",
       "      <td>Dragons in the Sunset</td>\n",
       "      <td>Fire + Ice</td>\n",
       "      <td>folk</td>\n",
       "      <td>Saint-Petersburg</td>\n",
       "      <td>08:37:09</td>\n",
       "      <td>Monday</td>\n",
       "    </tr>\n",
       "    <tr>\n",
       "      <td>4</td>\n",
       "      <td>E2DC1FAE</td>\n",
       "      <td>Soul People</td>\n",
       "      <td>Space Echo</td>\n",
       "      <td>dance</td>\n",
       "      <td>Moscow</td>\n",
       "      <td>08:34:34</td>\n",
       "      <td>Monday</td>\n",
       "    </tr>\n",
       "    <tr>\n",
       "      <td>5</td>\n",
       "      <td>842029A1</td>\n",
       "      <td>Преданная</td>\n",
       "      <td>IMPERVTOR</td>\n",
       "      <td>rusrap</td>\n",
       "      <td>Saint-Petersburg</td>\n",
       "      <td>13:09:41</td>\n",
       "      <td>Friday</td>\n",
       "    </tr>\n",
       "    <tr>\n",
       "      <td>6</td>\n",
       "      <td>4CB90AA5</td>\n",
       "      <td>True</td>\n",
       "      <td>Roman Messer</td>\n",
       "      <td>dance</td>\n",
       "      <td>Moscow</td>\n",
       "      <td>13:00:07</td>\n",
       "      <td>Wednesday</td>\n",
       "    </tr>\n",
       "    <tr>\n",
       "      <td>7</td>\n",
       "      <td>F03E1C1F</td>\n",
       "      <td>Feeling This Way</td>\n",
       "      <td>Polina Griffith</td>\n",
       "      <td>dance</td>\n",
       "      <td>Moscow</td>\n",
       "      <td>20:47:49</td>\n",
       "      <td>Wednesday</td>\n",
       "    </tr>\n",
       "    <tr>\n",
       "      <td>8</td>\n",
       "      <td>8FA1D3BE</td>\n",
       "      <td>И вновь продолжается бой</td>\n",
       "      <td>NaN</td>\n",
       "      <td>ruspop</td>\n",
       "      <td>Moscow</td>\n",
       "      <td>09:17:40</td>\n",
       "      <td>Friday</td>\n",
       "    </tr>\n",
       "    <tr>\n",
       "      <td>9</td>\n",
       "      <td>E772D5C0</td>\n",
       "      <td>Pessimist</td>\n",
       "      <td>NaN</td>\n",
       "      <td>dance</td>\n",
       "      <td>Saint-Petersburg</td>\n",
       "      <td>21:20:49</td>\n",
       "      <td>Wednesday</td>\n",
       "    </tr>\n",
       "  </tbody>\n",
       "</table>\n",
       "</div>"
      ],
      "text/plain": [
       "     userID                        Track            artist   genre  \\\n",
       "0  FFB692EC            Kamigata To Boots  The Mass Missile    rock   \n",
       "1  55204538  Delayed Because of Accident  Andreas Rönnberg    rock   \n",
       "2    20EC38            Funiculì funiculà       Mario Lanza     pop   \n",
       "3  A3DD03C9        Dragons in the Sunset        Fire + Ice    folk   \n",
       "4  E2DC1FAE                  Soul People        Space Echo   dance   \n",
       "5  842029A1                    Преданная         IMPERVTOR  rusrap   \n",
       "6  4CB90AA5                         True      Roman Messer   dance   \n",
       "7  F03E1C1F             Feeling This Way   Polina Griffith   dance   \n",
       "8  8FA1D3BE     И вновь продолжается бой               NaN  ruspop   \n",
       "9  E772D5C0                    Pessimist               NaN   dance   \n",
       "\n",
       "             City        time        Day  \n",
       "0  Saint-Petersburg  20:28:33  Wednesday  \n",
       "1            Moscow  14:07:09     Friday  \n",
       "2  Saint-Petersburg  20:58:07  Wednesday  \n",
       "3  Saint-Petersburg  08:37:09     Monday  \n",
       "4            Moscow  08:34:34     Monday  \n",
       "5  Saint-Petersburg  13:09:41     Friday  \n",
       "6            Moscow  13:00:07  Wednesday  \n",
       "7            Moscow  20:47:49  Wednesday  \n",
       "8            Moscow  09:17:40     Friday  \n",
       "9  Saint-Petersburg  21:20:49  Wednesday  "
      ]
     },
     "metadata": {},
     "output_type": "display_data"
    },
    {
     "name": "stdout",
     "output_type": "stream",
     "text": [
      "<class 'pandas.core.frame.DataFrame'>\n",
      "RangeIndex: 65079 entries, 0 to 65078\n",
      "Data columns (total 7 columns):\n",
      "  userID    65079 non-null object\n",
      "Track       63848 non-null object\n",
      "artist      57876 non-null object\n",
      "genre       63881 non-null object\n",
      "  City      65079 non-null object\n",
      "time        65079 non-null object\n",
      "Day         65079 non-null object\n",
      "dtypes: object(7)\n",
      "memory usage: 3.5+ MB\n"
     ]
    }
   ],
   "source": [
    "# импорт библиотеки pandas\n",
    "import pandas as pd\n",
    "\n",
    "# чтение файла с данными и сохранение в df\n",
    "df = pd.read_csv('/Users/polina_lunyova/Documents/It/projects/final_version/1_Базовый_python/yandex_music_project_1.csv') \n",
    "\n",
    "# получение первых 10 строк таблицы df\n",
    "display(df.head(10)) \n",
    "\n",
    "# получение общей информации о данных в таблице df\n",
    "df.info() "
   ]
  },
  {
   "cell_type": "markdown",
   "metadata": {
    "id": "TaQ2Iwbr_Zct"
   },
   "source": [
    "Итак, в таблице семь столбцов. Тип данных во всех столбцах — `object`.\n",
    "\n",
    "Согласно документации к данным:\n",
    "* `userID` — идентификатор пользователя;\n",
    "* `Track` — название трека;  \n",
    "* `artist` — имя исполнителя;\n",
    "* `genre` — название жанра;\n",
    "* `City` — город пользователя;\n",
    "* `time` — время начала прослушивания;\n",
    "* `Day` — день недели.\n",
    "\n",
    "В названиях колонок видны три нарушения стиля:\n",
    "1. Строчные буквы сочетаются с прописными.\n",
    "2. Встречаются пробелы.\n",
    "3. Отсутствие разделения \"змеиным регистром\".\n",
    "\n",
    "\n",
    "\n",
    "Количество значений в столбцах различается. Значит, в данных есть пропущенные значения.\n"
   ]
  },
  {
   "cell_type": "markdown",
   "metadata": {
    "id": "MCB6-dXG_Zct"
   },
   "source": [
    "**Вывод:**\n",
    "\n",
    "В каждой строке таблицы — данные о прослушанном треке. Часть колонок описывает саму композицию: название, исполнителя и жанр. Остальные данные рассказывают о пользователе: из какого он города, когда он слушал музыку. \n",
    "\n",
    "Предварительно можно утверждать, что, данных достаточно для проверки гипотез. Но встречаются пропуски в данных, а в названиях колонок — расхождения с хорошим стилем.\n",
    "\n",
    "Чтобы двигаться дальше, нужно устранить проблемы в данных."
   ]
  },
  {
   "cell_type": "markdown",
   "metadata": {
    "id": "SjYF6Ub9_Zct"
   },
   "source": [
    "## 2 Предобработка данных\n"
   ]
  },
  {
   "cell_type": "markdown",
   "metadata": {
    "id": "dIaKXr29_Zct"
   },
   "source": [
    "### Стиль заголовков"
   ]
  },
  {
   "cell_type": "code",
   "execution_count": 2,
   "metadata": {
    "id": "oKOTdF_Q_Zct"
   },
   "outputs": [
    {
     "data": {
      "text/plain": [
       "Index(['  userID', 'Track', 'artist', 'genre', '  City  ', 'time', 'Day'], dtype='object')"
      ]
     },
     "execution_count": 2,
     "metadata": {},
     "output_type": "execute_result"
    }
   ],
   "source": [
    "# выведем на экран названия столбцов\n",
    "df.columns"
   ]
  },
  {
   "cell_type": "code",
   "execution_count": 3,
   "metadata": {
    "id": "ISlFqs5y_Zct"
   },
   "outputs": [],
   "source": [
    "# переименование столбцов\n",
    "df = df.rename(columns={'  userID': 'user_id', 'Track': 'track', '  City  ': 'city',  'Day': 'day'}) "
   ]
  },
  {
   "cell_type": "code",
   "execution_count": 4,
   "metadata": {
    "id": "d4NOAmTW_Zct"
   },
   "outputs": [
    {
     "data": {
      "text/plain": [
       "Index(['user_id', 'track', 'artist', 'genre', 'city', 'time', 'day'], dtype='object')"
      ]
     },
     "execution_count": 4,
     "metadata": {},
     "output_type": "execute_result"
    }
   ],
   "source": [
    "# проверка результатов - перечень названий столбцов\n",
    "df.columns "
   ]
  },
  {
   "cell_type": "markdown",
   "metadata": {
    "id": "5ISfbcfY_Zct"
   },
   "source": [
    "### Пропуски значений"
   ]
  },
  {
   "cell_type": "code",
   "execution_count": 5,
   "metadata": {
    "id": "RskX29qr_Zct"
   },
   "outputs": [
    {
     "data": {
      "text/plain": [
       "user_id       0\n",
       "track      1231\n",
       "artist     7203\n",
       "genre      1198\n",
       "city          0\n",
       "time          0\n",
       "day           0\n",
       "dtype: int64"
      ]
     },
     "execution_count": 5,
     "metadata": {},
     "output_type": "execute_result"
    }
   ],
   "source": [
    "# подсчёт пропусков\n",
    "df.isna().sum() "
   ]
  },
  {
   "cell_type": "markdown",
   "metadata": {
    "id": "qubhgnlO_Zct"
   },
   "source": [
    "Не все пропущенные значения влияют на исследование. Так в `track` и `artist` пропуски не важны для нашей работы. Достаточно заменить их явными обозначениями.\n",
    "\n",
    "Пропуски в `genre` могут помешать сравнению музыкальных вкусов в Москве и Санкт-Петербурге. На практике можно установить причину пропусков и восстановить данные. В нашем случае можно заполнить эти пропуски явными обозначениями и оценить, насколько они повредят расчётам. "
   ]
  },
  {
   "cell_type": "code",
   "execution_count": 6,
   "metadata": {
    "id": "KplB5qWs_Zct"
   },
   "outputs": [],
   "source": [
    "# перебор названий столбцов в цикле и замена пропущенных значений на 'unknown'\n",
    "columns_to_replace = ['track', 'artist', 'genre']\n",
    "for column in columns_to_replace:\n",
    "     df[column] = df[column].fillna('unknown') "
   ]
  },
  {
   "cell_type": "code",
   "execution_count": 7,
   "metadata": {
    "id": "Tq4nYRX4_Zct"
   },
   "outputs": [
    {
     "data": {
      "text/plain": [
       "user_id    0\n",
       "track      0\n",
       "artist     0\n",
       "genre      0\n",
       "city       0\n",
       "time       0\n",
       "day        0\n",
       "dtype: int64"
      ]
     },
     "execution_count": 7,
     "metadata": {},
     "output_type": "execute_result"
    }
   ],
   "source": [
    "# повторная проверка пропусков в таблице\n",
    "df.isna().sum() "
   ]
  },
  {
   "cell_type": "markdown",
   "metadata": {
    "id": "BWKRtBJ3_Zct"
   },
   "source": [
    "### Дубликаты"
   ]
  },
  {
   "cell_type": "code",
   "execution_count": 8,
   "metadata": {
    "id": "36eES_S0_Zct"
   },
   "outputs": [
    {
     "name": "stdout",
     "output_type": "stream",
     "text": [
      "Количество явных дубликатов: 3826\n"
     ]
    }
   ],
   "source": [
    "print('Количество явных дубликатов:', df.duplicated().sum()) "
   ]
  },
  {
   "cell_type": "code",
   "execution_count": 9,
   "metadata": {
    "id": "exFHq6tt_Zct"
   },
   "outputs": [
    {
     "name": "stdout",
     "output_type": "stream",
     "text": [
      "Количество явных дубликатов: 0\n"
     ]
    }
   ],
   "source": [
    "# удаление явных дубликатов (с удалением старых индексов и формированием новых)\n",
    "df = df.drop_duplicates().reset_index(drop=True) \n",
    "print('Количество явных дубликатов:', df.duplicated().sum()) "
   ]
  },
  {
   "cell_type": "markdown",
   "metadata": {},
   "source": [
    "Просмотрим список и найдем неявные дубликаты названий. Это могут быть названия с ошибками или альтернативные названия того же жанра."
   ]
  },
  {
   "cell_type": "code",
   "execution_count": 10,
   "metadata": {
    "id": "JIUcqzZN_Zct",
    "scrolled": true
   },
   "outputs": [
    {
     "data": {
      "text/plain": [
       "array(['acid', 'acoustic', 'action', 'adult', 'africa', 'afrikaans',\n",
       "       'alternative', 'alternativepunk', 'ambient', 'americana',\n",
       "       'animated', 'anime', 'arabesk', 'arabic', 'arena',\n",
       "       'argentinetango', 'art', 'audiobook', 'author', 'avantgarde',\n",
       "       'axé', 'baile', 'balkan', 'beats', 'bigroom', 'black', 'bluegrass',\n",
       "       'blues', 'bollywood', 'bossa', 'brazilian', 'breakbeat', 'breaks',\n",
       "       'broadway', 'cantautori', 'cantopop', 'canzone', 'caribbean',\n",
       "       'caucasian', 'celtic', 'chamber', 'chanson', 'children', 'chill',\n",
       "       'chinese', 'choral', 'christian', 'christmas', 'classical',\n",
       "       'classicmetal', 'club', 'colombian', 'comedy', 'conjazz',\n",
       "       'contemporary', 'country', 'cuban', 'dance', 'dancehall',\n",
       "       'dancepop', 'dark', 'death', 'deep', 'deutschrock', 'deutschspr',\n",
       "       'dirty', 'disco', 'dnb', 'documentary', 'downbeat', 'downtempo',\n",
       "       'drum', 'dub', 'dubstep', 'eastern', 'easy', 'electronic',\n",
       "       'electropop', 'emo', 'entehno', 'epicmetal', 'estrada', 'ethnic',\n",
       "       'eurofolk', 'european', 'experimental', 'extrememetal', 'fado',\n",
       "       'fairytail', 'film', 'fitness', 'flamenco', 'folk', 'folklore',\n",
       "       'folkmetal', 'folkrock', 'folktronica', 'forró', 'frankreich',\n",
       "       'französisch', 'french', 'funk', 'future', 'gangsta', 'garage',\n",
       "       'german', 'ghazal', 'gitarre', 'glitch', 'gospel', 'gothic',\n",
       "       'grime', 'grunge', 'gypsy', 'handsup', \"hard'n'heavy\", 'hardcore',\n",
       "       'hardstyle', 'hardtechno', 'hip', 'hip-hop', 'hiphop',\n",
       "       'historisch', 'holiday', 'hop', 'horror', 'house', 'hymn', 'idm',\n",
       "       'independent', 'indian', 'indie', 'indipop', 'industrial',\n",
       "       'inspirational', 'instrumental', 'international', 'irish', 'jam',\n",
       "       'japanese', 'jazz', 'jewish', 'jpop', 'jungle', 'k-pop',\n",
       "       'karadeniz', 'karaoke', 'kayokyoku', 'korean', 'laiko', 'latin',\n",
       "       'latino', 'leftfield', 'local', 'lounge', 'loungeelectronic',\n",
       "       'lovers', 'malaysian', 'mandopop', 'marschmusik', 'meditative',\n",
       "       'mediterranean', 'melodic', 'metal', 'metalcore', 'mexican',\n",
       "       'middle', 'minimal', 'miscellaneous', 'modern', 'mood', 'mpb',\n",
       "       'muslim', 'native', 'neoklassik', 'neue', 'new', 'newage',\n",
       "       'newwave', 'nu', 'nujazz', 'numetal', 'oceania', 'old', 'opera',\n",
       "       'orchestral', 'other', 'piano', 'podcasts', 'pop', 'popdance',\n",
       "       'popelectronic', 'popeurodance', 'poprussian', 'post',\n",
       "       'posthardcore', 'postrock', 'power', 'progmetal', 'progressive',\n",
       "       'psychedelic', 'punjabi', 'punk', 'quebecois', 'ragga', 'ram',\n",
       "       'rancheras', 'rap', 'rave', 'reggae', 'reggaeton', 'regional',\n",
       "       'relax', 'religious', 'retro', 'rhythm', 'rnb', 'rnr', 'rock',\n",
       "       'rockabilly', 'rockalternative', 'rockindie', 'rockother',\n",
       "       'romance', 'roots', 'ruspop', 'rusrap', 'rusrock', 'russian',\n",
       "       'salsa', 'samba', 'scenic', 'schlager', 'self', 'sertanejo',\n",
       "       'shanson', 'shoegazing', 'showtunes', 'singer', 'ska', 'skarock',\n",
       "       'slow', 'smooth', 'soft', 'soul', 'soulful', 'sound', 'soundtrack',\n",
       "       'southern', 'specialty', 'speech', 'spiritual', 'sport',\n",
       "       'stonerrock', 'surf', 'swing', 'synthpop', 'synthrock',\n",
       "       'sängerportrait', 'tango', 'tanzorchester', 'taraftar', 'tatar',\n",
       "       'tech', 'techno', 'teen', 'thrash', 'top', 'traditional',\n",
       "       'tradjazz', 'trance', 'tribal', 'trip', 'triphop', 'tropical',\n",
       "       'türk', 'türkçe', 'ukrrock', 'unknown', 'urban', 'uzbek',\n",
       "       'variété', 'vi', 'videogame', 'vocal', 'western', 'world',\n",
       "       'worldbeat', 'ïîï', 'электроника'], dtype=object)"
      ]
     },
     "execution_count": 10,
     "metadata": {},
     "output_type": "execute_result"
    }
   ],
   "source": [
    "# Просмотр уникальных названий жанров\n",
    "df.sort_values(by='genre')['genre'].unique()"
   ]
  },
  {
   "cell_type": "code",
   "execution_count": 11,
   "metadata": {
    "id": "ErNDkmns_Zct"
   },
   "outputs": [],
   "source": [
    "# Функция для замены неявных дубликатов\n",
    "def replace_wrong_genres(wrong_genres, correct_genre):\n",
    "    for wrong_genres in wrong_genres:\n",
    "        df['genre'] = df['genre'].replace(wrong_genres, correct_genre)\n",
    "duplicated = ['hip', 'hop', 'hip-hop']     \n",
    "name = 'hiphop'"
   ]
  },
  {
   "cell_type": "code",
   "execution_count": 12,
   "metadata": {
    "id": "YN5i2hpmSo09"
   },
   "outputs": [],
   "source": [
    "# Устранение неявных дубликатов\n",
    "replace_wrong_genres(duplicated, name) "
   ]
  },
  {
   "cell_type": "code",
   "execution_count": 13,
   "metadata": {},
   "outputs": [],
   "source": [
    "duplicated = ['электроника']     \n",
    "name = 'electronic'\n",
    "\n",
    "# Устранение неявных дубликатов\n",
    "replace_wrong_genres(duplicated, name) "
   ]
  },
  {
   "cell_type": "code",
   "execution_count": 14,
   "metadata": {
    "id": "wvixALnFG15m"
   },
   "outputs": [
    {
     "data": {
      "text/plain": [
       "['acid',\n",
       " 'acoustic',\n",
       " 'action',\n",
       " 'adult',\n",
       " 'africa',\n",
       " 'afrikaans',\n",
       " 'alternative',\n",
       " 'alternativepunk',\n",
       " 'ambient',\n",
       " 'americana',\n",
       " 'animated',\n",
       " 'anime',\n",
       " 'arabesk',\n",
       " 'arabic',\n",
       " 'arena',\n",
       " 'argentinetango',\n",
       " 'art',\n",
       " 'audiobook',\n",
       " 'author',\n",
       " 'avantgarde',\n",
       " 'axé',\n",
       " 'baile',\n",
       " 'balkan',\n",
       " 'beats',\n",
       " 'bigroom',\n",
       " 'black',\n",
       " 'bluegrass',\n",
       " 'blues',\n",
       " 'bollywood',\n",
       " 'bossa',\n",
       " 'brazilian',\n",
       " 'breakbeat',\n",
       " 'breaks',\n",
       " 'broadway',\n",
       " 'cantautori',\n",
       " 'cantopop',\n",
       " 'canzone',\n",
       " 'caribbean',\n",
       " 'caucasian',\n",
       " 'celtic',\n",
       " 'chamber',\n",
       " 'chanson',\n",
       " 'children',\n",
       " 'chill',\n",
       " 'chinese',\n",
       " 'choral',\n",
       " 'christian',\n",
       " 'christmas',\n",
       " 'classical',\n",
       " 'classicmetal',\n",
       " 'club',\n",
       " 'colombian',\n",
       " 'comedy',\n",
       " 'conjazz',\n",
       " 'contemporary',\n",
       " 'country',\n",
       " 'cuban',\n",
       " 'dance',\n",
       " 'dancehall',\n",
       " 'dancepop',\n",
       " 'dark',\n",
       " 'death',\n",
       " 'deep',\n",
       " 'deutschrock',\n",
       " 'deutschspr',\n",
       " 'dirty',\n",
       " 'disco',\n",
       " 'dnb',\n",
       " 'documentary',\n",
       " 'downbeat',\n",
       " 'downtempo',\n",
       " 'drum',\n",
       " 'dub',\n",
       " 'dubstep',\n",
       " 'eastern',\n",
       " 'easy',\n",
       " 'electronic',\n",
       " 'electropop',\n",
       " 'emo',\n",
       " 'entehno',\n",
       " 'epicmetal',\n",
       " 'estrada',\n",
       " 'ethnic',\n",
       " 'eurofolk',\n",
       " 'european',\n",
       " 'experimental',\n",
       " 'extrememetal',\n",
       " 'fado',\n",
       " 'fairytail',\n",
       " 'film',\n",
       " 'fitness',\n",
       " 'flamenco',\n",
       " 'folk',\n",
       " 'folklore',\n",
       " 'folkmetal',\n",
       " 'folkrock',\n",
       " 'folktronica',\n",
       " 'forró',\n",
       " 'frankreich',\n",
       " 'französisch',\n",
       " 'french',\n",
       " 'funk',\n",
       " 'future',\n",
       " 'gangsta',\n",
       " 'garage',\n",
       " 'german',\n",
       " 'ghazal',\n",
       " 'gitarre',\n",
       " 'glitch',\n",
       " 'gospel',\n",
       " 'gothic',\n",
       " 'grime',\n",
       " 'grunge',\n",
       " 'gypsy',\n",
       " 'handsup',\n",
       " \"hard'n'heavy\",\n",
       " 'hardcore',\n",
       " 'hardstyle',\n",
       " 'hardtechno',\n",
       " 'hiphop',\n",
       " 'historisch',\n",
       " 'holiday',\n",
       " 'horror',\n",
       " 'house',\n",
       " 'hymn',\n",
       " 'idm',\n",
       " 'independent',\n",
       " 'indian',\n",
       " 'indie',\n",
       " 'indipop',\n",
       " 'industrial',\n",
       " 'inspirational',\n",
       " 'instrumental',\n",
       " 'international',\n",
       " 'irish',\n",
       " 'jam',\n",
       " 'japanese',\n",
       " 'jazz',\n",
       " 'jewish',\n",
       " 'jpop',\n",
       " 'jungle',\n",
       " 'k-pop',\n",
       " 'karadeniz',\n",
       " 'karaoke',\n",
       " 'kayokyoku',\n",
       " 'korean',\n",
       " 'laiko',\n",
       " 'latin',\n",
       " 'latino',\n",
       " 'leftfield',\n",
       " 'local',\n",
       " 'lounge',\n",
       " 'loungeelectronic',\n",
       " 'lovers',\n",
       " 'malaysian',\n",
       " 'mandopop',\n",
       " 'marschmusik',\n",
       " 'meditative',\n",
       " 'mediterranean',\n",
       " 'melodic',\n",
       " 'metal',\n",
       " 'metalcore',\n",
       " 'mexican',\n",
       " 'middle',\n",
       " 'minimal',\n",
       " 'miscellaneous',\n",
       " 'modern',\n",
       " 'mood',\n",
       " 'mpb',\n",
       " 'muslim',\n",
       " 'native',\n",
       " 'neoklassik',\n",
       " 'neue',\n",
       " 'new',\n",
       " 'newage',\n",
       " 'newwave',\n",
       " 'nu',\n",
       " 'nujazz',\n",
       " 'numetal',\n",
       " 'oceania',\n",
       " 'old',\n",
       " 'opera',\n",
       " 'orchestral',\n",
       " 'other',\n",
       " 'piano',\n",
       " 'podcasts',\n",
       " 'pop',\n",
       " 'popdance',\n",
       " 'popelectronic',\n",
       " 'popeurodance',\n",
       " 'poprussian',\n",
       " 'post',\n",
       " 'posthardcore',\n",
       " 'postrock',\n",
       " 'power',\n",
       " 'progmetal',\n",
       " 'progressive',\n",
       " 'psychedelic',\n",
       " 'punjabi',\n",
       " 'punk',\n",
       " 'quebecois',\n",
       " 'ragga',\n",
       " 'ram',\n",
       " 'rancheras',\n",
       " 'rap',\n",
       " 'rave',\n",
       " 'reggae',\n",
       " 'reggaeton',\n",
       " 'regional',\n",
       " 'relax',\n",
       " 'religious',\n",
       " 'retro',\n",
       " 'rhythm',\n",
       " 'rnb',\n",
       " 'rnr',\n",
       " 'rock',\n",
       " 'rockabilly',\n",
       " 'rockalternative',\n",
       " 'rockindie',\n",
       " 'rockother',\n",
       " 'romance',\n",
       " 'roots',\n",
       " 'ruspop',\n",
       " 'rusrap',\n",
       " 'rusrock',\n",
       " 'russian',\n",
       " 'salsa',\n",
       " 'samba',\n",
       " 'scenic',\n",
       " 'schlager',\n",
       " 'self',\n",
       " 'sertanejo',\n",
       " 'shanson',\n",
       " 'shoegazing',\n",
       " 'showtunes',\n",
       " 'singer',\n",
       " 'ska',\n",
       " 'skarock',\n",
       " 'slow',\n",
       " 'smooth',\n",
       " 'soft',\n",
       " 'soul',\n",
       " 'soulful',\n",
       " 'sound',\n",
       " 'soundtrack',\n",
       " 'southern',\n",
       " 'specialty',\n",
       " 'speech',\n",
       " 'spiritual',\n",
       " 'sport',\n",
       " 'stonerrock',\n",
       " 'surf',\n",
       " 'swing',\n",
       " 'synthpop',\n",
       " 'synthrock',\n",
       " 'sängerportrait',\n",
       " 'tango',\n",
       " 'tanzorchester',\n",
       " 'taraftar',\n",
       " 'tatar',\n",
       " 'tech',\n",
       " 'techno',\n",
       " 'teen',\n",
       " 'thrash',\n",
       " 'top',\n",
       " 'traditional',\n",
       " 'tradjazz',\n",
       " 'trance',\n",
       " 'tribal',\n",
       " 'trip',\n",
       " 'triphop',\n",
       " 'tropical',\n",
       " 'türk',\n",
       " 'türkçe',\n",
       " 'ukrrock',\n",
       " 'unknown',\n",
       " 'urban',\n",
       " 'uzbek',\n",
       " 'variété',\n",
       " 'vi',\n",
       " 'videogame',\n",
       " 'vocal',\n",
       " 'western',\n",
       " 'world',\n",
       " 'worldbeat',\n",
       " 'ïîï']"
      ]
     },
     "execution_count": 14,
     "metadata": {},
     "output_type": "execute_result"
    }
   ],
   "source": [
    "# Проверка на неявные дубликаты\n",
    "sorted(df['genre'].unique()) "
   ]
  },
  {
   "cell_type": "markdown",
   "metadata": {
    "id": "jz6a9-7HQUDd"
   },
   "source": [
    "**Выводы**\n",
    "\n",
    "Предобработка обнаружила три проблемы в данных:\n",
    "\n",
    "- нарушения в стиле заголовков,\n",
    "- пропущенные значения,\n",
    "- дубликаты — явные и неявные.\n",
    "\n",
    "Мы исправили заголовки, чтобы упростить работу с таблицей. Без дубликатов исследование станет более точным.\n",
    "\n",
    "Пропущенные значения мы заменили на `'unknown'`. Ещё предстоит увидеть, не повредят ли исследованию пропуски в колонке `genre`.\n",
    "\n",
    "Теперь можно перейти к проверке гипотез. "
   ]
  },
  {
   "cell_type": "markdown",
   "metadata": {
    "id": "WttZHXH0SqKk"
   },
   "source": [
    "## 3 Проверка гипотез"
   ]
  },
  {
   "cell_type": "markdown",
   "metadata": {
    "id": "Im936VVi_Zcu"
   },
   "source": [
    "### Сравнение поведения пользователей двух столиц"
   ]
  },
  {
   "cell_type": "markdown",
   "metadata": {
    "id": "nwt_MuaL_Zcu"
   },
   "source": [
    "Первая гипотеза утверждает, что пользователи по-разному слушают музыку в Москве и Санкт-Петербурге. Проверим это предположение по данным о трёх днях недели — понедельнике, среде и пятнице. Для этого:\n",
    "\n",
    "* Разделим пользователей Москвы и Санкт-Петербурга;\n",
    "* Сравним, сколько треков послушала каждая группа пользователей в понедельник, среду и пятницу.\n"
   ]
  },
  {
   "cell_type": "markdown",
   "metadata": {
    "id": "8Dw_YMmT_Zcu"
   },
   "source": [
    "**Оценим активность пользователей в каждом городе**"
   ]
  },
  {
   "cell_type": "code",
   "execution_count": 15,
   "metadata": {
    "id": "0_Qs96oh_Zcu"
   },
   "outputs": [
    {
     "data": {
      "text/plain": [
       "city\n",
       "Moscow              42741\n",
       "Saint-Petersburg    18512\n",
       "Name: time, dtype: int64"
      ]
     },
     "metadata": {},
     "output_type": "display_data"
    }
   ],
   "source": [
    "# подсчёт прослушиваний в каждом городе\n",
    "display(df.groupby('city')['time'].count()) "
   ]
  },
  {
   "cell_type": "markdown",
   "metadata": {
    "id": "dzli3w8o_Zcu"
   },
   "source": [
    "В Москве прослушиваний больше, чем в Петербурге. Из этого не следует, что московские пользователи чаще слушают музыку, может просто самих пользователей в Москве больше."
   ]
  },
  {
   "cell_type": "code",
   "execution_count": 16,
   "metadata": {
    "id": "uZMKjiJz_Zcu"
   },
   "outputs": [
    {
     "data": {
      "text/plain": [
       "day\n",
       "Friday       21840\n",
       "Monday       21354\n",
       "Wednesday    18059\n",
       "Name: time, dtype: int64"
      ]
     },
     "metadata": {},
     "output_type": "display_data"
    }
   ],
   "source": [
    "# Подсчёт прослушиваний в каждый из трёх дней\n",
    "display(df.groupby('day')['time'].count()) "
   ]
  },
  {
   "cell_type": "markdown",
   "metadata": {
    "id": "cC2tNrlL_Zcu"
   },
   "source": [
    "В среднем пользователи из двух городов менее активны по средам. Но картина может измениться, если рассмотреть каждый город в отдельности."
   ]
  },
  {
   "cell_type": "code",
   "execution_count": 17,
   "metadata": {
    "id": "Nz3GdQB1_Zcu"
   },
   "outputs": [],
   "source": [
    "def number_tracks(day, city): \n",
    "    track_list = df[df['day'] == day]\n",
    "    track_list =  track_list[track_list['city'] == city]\n",
    "    track_list_count = track_list['user_id'].count()\n",
    "    return track_list_count "
   ]
  },
  {
   "cell_type": "code",
   "execution_count": 18,
   "metadata": {
    "id": "rJcRATNQ_Zcu"
   },
   "outputs": [
    {
     "name": "stdout",
     "output_type": "stream",
     "text": [
      "Количество прослушиваний в Москве по понедельникам: 15740\n"
     ]
    }
   ],
   "source": [
    "print('Количество прослушиваний в Москве по понедельникам:', number_tracks('Monday', 'Moscow')) "
   ]
  },
  {
   "cell_type": "code",
   "execution_count": 19,
   "metadata": {
    "id": "hq_ncZ5T_Zcu"
   },
   "outputs": [
    {
     "name": "stdout",
     "output_type": "stream",
     "text": [
      "Количество прослушиваний в Санкт-Петербурге по понедельникам: 5614\n"
     ]
    }
   ],
   "source": [
    "print('Количество прослушиваний в Санкт-Петербурге по понедельникам:', number_tracks('Monday', 'Saint-Petersburg'))"
   ]
  },
  {
   "cell_type": "code",
   "execution_count": 20,
   "metadata": {
    "id": "_NTy2VPU_Zcu"
   },
   "outputs": [
    {
     "name": "stdout",
     "output_type": "stream",
     "text": [
      "Количество прослушиваний в Москве по средам: 11056\n"
     ]
    }
   ],
   "source": [
    "print('Количество прослушиваний в Москве по средам:', number_tracks('Wednesday', 'Moscow')) "
   ]
  },
  {
   "cell_type": "code",
   "execution_count": 21,
   "metadata": {
    "id": "j2y3TAwo_Zcu"
   },
   "outputs": [
    {
     "name": "stdout",
     "output_type": "stream",
     "text": [
      "Количество прослушиваний в Санкт-Петербурге по средам: 7003\n"
     ]
    }
   ],
   "source": [
    "print('Количество прослушиваний в Санкт-Петербурге по средам:', number_tracks('Wednesday', 'Saint-Petersburg')) "
   ]
  },
  {
   "cell_type": "code",
   "execution_count": 22,
   "metadata": {
    "id": "vYDw5u_K_Zcu"
   },
   "outputs": [
    {
     "name": "stdout",
     "output_type": "stream",
     "text": [
      "Количество прослушиваний в Москве по пятницам: 15945\n"
     ]
    }
   ],
   "source": [
    "print('Количество прослушиваний в Москве по пятницам:', number_tracks('Friday', 'Moscow'))"
   ]
  },
  {
   "cell_type": "code",
   "execution_count": 23,
   "metadata": {
    "id": "8_yzFtW3_Zcu"
   },
   "outputs": [
    {
     "name": "stdout",
     "output_type": "stream",
     "text": [
      "Количество прослушиваний в Санкт-Петербурге по пятницам: 5895\n"
     ]
    }
   ],
   "source": [
    "print('Количество прослушиваний в Санкт-Петербурге по пятницам:', number_tracks('Friday', 'Saint-Petersburg')) "
   ]
  },
  {
   "cell_type": "code",
   "execution_count": 24,
   "metadata": {
    "id": "APAcLpOr_Zcu"
   },
   "outputs": [
    {
     "data": {
      "text/html": [
       "<div>\n",
       "<style scoped>\n",
       "    .dataframe tbody tr th:only-of-type {\n",
       "        vertical-align: middle;\n",
       "    }\n",
       "\n",
       "    .dataframe tbody tr th {\n",
       "        vertical-align: top;\n",
       "    }\n",
       "\n",
       "    .dataframe thead th {\n",
       "        text-align: right;\n",
       "    }\n",
       "</style>\n",
       "<table border=\"1\" class=\"dataframe\">\n",
       "  <thead>\n",
       "    <tr style=\"text-align: right;\">\n",
       "      <th></th>\n",
       "      <th>city</th>\n",
       "      <th>Monday</th>\n",
       "      <th>Wednesday</th>\n",
       "      <th>Friday</th>\n",
       "    </tr>\n",
       "  </thead>\n",
       "  <tbody>\n",
       "    <tr>\n",
       "      <td>0</td>\n",
       "      <td>Moscow</td>\n",
       "      <td>15740</td>\n",
       "      <td>11056</td>\n",
       "      <td>15945</td>\n",
       "    </tr>\n",
       "    <tr>\n",
       "      <td>1</td>\n",
       "      <td>Saint-Petersburg</td>\n",
       "      <td>5614</td>\n",
       "      <td>7003</td>\n",
       "      <td>5895</td>\n",
       "    </tr>\n",
       "  </tbody>\n",
       "</table>\n",
       "</div>"
      ],
      "text/plain": [
       "               city  Monday  Wednesday  Friday\n",
       "0            Moscow   15740      11056   15945\n",
       "1  Saint-Petersburg    5614       7003    5895"
      ]
     },
     "metadata": {},
     "output_type": "display_data"
    }
   ],
   "source": [
    "# Таблица с результатами\n",
    "data = [\n",
    "    ['Moscow', number_tracks('Monday', 'Moscow'), number_tracks('Wednesday', 'Moscow'), number_tracks('Friday', 'Moscow')], \n",
    "    ['Saint-Petersburg', number_tracks('Monday', 'Saint-Petersburg'), number_tracks('Wednesday', 'Saint-Petersburg'), number_tracks('Friday', 'Saint-Petersburg')]\n",
    "]     \n",
    "columns = ['city', 'Monday', 'Wednesday', 'Friday']\n",
    "display(pd.DataFrame(data=data, columns=columns)) "
   ]
  },
  {
   "cell_type": "markdown",
   "metadata": {
    "id": "-EgPIHYu_Zcu"
   },
   "source": [
    "**Вывод:**\n",
    "\n",
    "Данные показывают разницу поведения пользователей:\n",
    "\n",
    "- В Москве пик прослушиваний приходится на понедельник и пятницу, а в среду заметен спад.\n",
    "- В Петербурге, наоборот, больше слушают музыку по средам. Активность в понедельник и пятницу здесь почти в равной мере уступает среде.\n",
    "\n",
    "Значит данные говорят в пользу первой гипотезы."
   ]
  },
  {
   "cell_type": "markdown",
   "metadata": {
    "id": "atZAxtq4_Zcu"
   },
   "source": [
    "### Музыка в начале и в конце недели"
   ]
  },
  {
   "cell_type": "markdown",
   "metadata": {
    "id": "eXrQqXFH_Zcu"
   },
   "source": [
    "Согласно второй гипотезе, утром в понедельник в Москве преобладают одни жанры, а в Петербурге — другие. Так же и вечером пятницы преобладают разные жанры — в зависимости от города."
   ]
  },
  {
   "cell_type": "markdown",
   "metadata": {
    "id": "S8UcW6Hw_Zcu"
   },
   "source": [
    "Сохраните таблицы с данными в две переменные:\n",
    "* по Москве — в `moscow_general`;\n",
    "* по Санкт-Петербургу — в `spb_general`."
   ]
  },
  {
   "cell_type": "code",
   "execution_count": 25,
   "metadata": {
    "id": "qeaFfM_P_Zcu"
   },
   "outputs": [],
   "source": [
    "# сохраним таблицу с данными в переменную `moscow_general`\n",
    "moscow_general = df[df['city'] == 'Moscow'] "
   ]
  },
  {
   "cell_type": "code",
   "execution_count": 26,
   "metadata": {
    "id": "ORaVRKto_Zcu"
   },
   "outputs": [],
   "source": [
    "# сохраним таблицу с данными в переменную `spb_general`\n",
    "spb_general = df[df['city'] == 'Saint-Petersburg'] "
   ]
  },
  {
   "cell_type": "markdown",
   "metadata": {
    "id": "MEJV-CX2_Zcu"
   },
   "source": [
    "Создадим функцию `genre_weekday()` с четырьмя параметрами:\n",
    "* таблица (датафрейм) с данными,\n",
    "* день недели,\n",
    "* начальная временная метка в формате 'hh:mm', \n",
    "* последняя временная метка в формате 'hh:mm'.\n",
    "\n",
    "Функция должна вернуть информацию о топ-10 жанров тех треков, которые прослушивали в указанный день, в промежутке между двумя отметками времени."
   ]
  },
  {
   "cell_type": "code",
   "execution_count": 27,
   "metadata": {
    "id": "laJT9BYl_Zcu"
   },
   "outputs": [],
   "source": [
    "def genre_weekday(table, day, time1, time2):\n",
    "    genre_df = table[table['day'] == day]\n",
    "    genre_df = genre_df[genre_df['time'] > time1]\n",
    "    genre_df = genre_df[genre_df['time'] < time2]\n",
    "    \n",
    "    genre_df_count = genre_df.groupby('genre')['time'].count()\n",
    "    genre_df_sorted = genre_df_count.sort_values(ascending=False)\n",
    "    return genre_df_sorted.head(10)"
   ]
  },
  {
   "cell_type": "markdown",
   "metadata": {
    "id": "la2s2_PF_Zcu"
   },
   "source": [
    "Сравниваем результаты функции `genre_weekday()` для Москвы и Санкт-Петербурга в понедельник утром (с 7:00 до 11:00) и в пятницу вечером (с 17:00 до 23:00):"
   ]
  },
  {
   "cell_type": "code",
   "execution_count": 28,
   "metadata": {
    "id": "yz7itPUQ_Zcu"
   },
   "outputs": [
    {
     "data": {
      "text/plain": [
       "genre\n",
       "pop            781\n",
       "dance          549\n",
       "electronic     480\n",
       "rock           474\n",
       "hiphop         286\n",
       "ruspop         186\n",
       "world          181\n",
       "rusrap         175\n",
       "alternative    164\n",
       "unknown        161\n",
       "Name: time, dtype: int64"
      ]
     },
     "execution_count": 28,
     "metadata": {},
     "output_type": "execute_result"
    }
   ],
   "source": [
    "# вызов функции для утра понедельника в Москве\n",
    "\n",
    "genre_weekday(moscow_general, 'Monday', '07:00', '11:00')"
   ]
  },
  {
   "cell_type": "code",
   "execution_count": 29,
   "metadata": {
    "id": "kwUcHPdy_Zcu"
   },
   "outputs": [
    {
     "data": {
      "text/plain": [
       "genre\n",
       "pop            218\n",
       "dance          182\n",
       "rock           162\n",
       "electronic     147\n",
       "hiphop          80\n",
       "ruspop          64\n",
       "alternative     58\n",
       "rusrap          55\n",
       "jazz            44\n",
       "classical       40\n",
       "Name: time, dtype: int64"
      ]
     },
     "execution_count": 29,
     "metadata": {},
     "output_type": "execute_result"
    }
   ],
   "source": [
    "# вызов функции для утра понедельника в Петербурге \n",
    "genre_weekday(spb_general, 'Monday', '07:00', '11:00')"
   ]
  },
  {
   "cell_type": "code",
   "execution_count": 30,
   "metadata": {
    "id": "EzXVRE1o_Zcu"
   },
   "outputs": [
    {
     "data": {
      "text/plain": [
       "genre\n",
       "pop            713\n",
       "rock           517\n",
       "dance          495\n",
       "electronic     482\n",
       "hiphop         273\n",
       "world          208\n",
       "ruspop         170\n",
       "alternative    163\n",
       "classical      163\n",
       "rusrap         142\n",
       "Name: time, dtype: int64"
      ]
     },
     "execution_count": 30,
     "metadata": {},
     "output_type": "execute_result"
    }
   ],
   "source": [
    "# вызов функции для вечера пятницы в Москве\n",
    "genre_weekday(moscow_general, 'Friday', '17:00', '23:00')"
   ]
  },
  {
   "cell_type": "code",
   "execution_count": 31,
   "metadata": {
    "id": "JZaEKu5v_Zcu"
   },
   "outputs": [
    {
     "data": {
      "text/plain": [
       "genre\n",
       "pop            256\n",
       "rock           216\n",
       "electronic     216\n",
       "dance          210\n",
       "hiphop          97\n",
       "alternative     63\n",
       "jazz            61\n",
       "classical       60\n",
       "rusrap          59\n",
       "world           54\n",
       "Name: time, dtype: int64"
      ]
     },
     "execution_count": 31,
     "metadata": {},
     "output_type": "execute_result"
    }
   ],
   "source": [
    "# вызов функции для вечера пятницы в Петербурге\n",
    "genre_weekday(spb_general, 'Friday', '17:00', '23:00')"
   ]
  },
  {
   "cell_type": "markdown",
   "metadata": {
    "id": "wrCe4MNX_Zcu"
   },
   "source": [
    "**Выводы**\n",
    "\n",
    "Если сравнить топ-10 жанров в понедельник утром, можно сделать такие выводы:\n",
    "\n",
    "1. В Москве и Петербурге слушают похожую музыку. Единственное отличие — в московский рейтинг вошёл жанр “world”, а в петербургский — джаз и классика.\n",
    "\n",
    "2. В Москве пропущенных значений оказалось так много, что значение `'unknown'` заняло десятое место среди самых популярных жанров. Значит, пропущенные значения занимают существенную долю в данных и угрожают достоверности исследования.\n",
    "\n",
    "Вечер пятницы не меняет эту картину. Некоторые жанры поднимаются немного выше, другие спускаются, но в целом топ-10 остаётся тем же самым.\n",
    "\n",
    "Таким образом, вторая гипотеза подтвердилась лишь частично:\n",
    "* Пользователи слушают похожую музыку в начале недели и в конце.\n",
    "* Разница между Москвой и Петербургом не слишком выражена. В Москве чаще слушают русскую популярную музыку, в Петербурге — джаз.\n",
    "\n",
    "Однако пропуски в данных ставят под сомнение этот результат. В Москве их так много, что рейтинг топ-10 мог бы выглядеть иначе, если бы не утерянные  данные о жанрах."
   ]
  },
  {
   "cell_type": "markdown",
   "metadata": {
    "id": "JolODAqr_Zcu"
   },
   "source": [
    "### Жанровые предпочтения в Москве и Петербурге\n",
    "\n",
    "Гипотеза: Петербург — столица рэпа, музыку этого жанра там слушают чаще, чем в Москве.  А Москва — город контрастов, в котором, тем не менее, преобладает поп-музыка."
   ]
  },
  {
   "cell_type": "code",
   "execution_count": 32,
   "metadata": {
    "id": "r19lIPke_Zcu"
   },
   "outputs": [],
   "source": [
    "# сгруппируем таблицу `moscow_general` по жанру и посчитаем прослушивания треков каждого жанра методом `count()`\n",
    "moscow_genres = moscow_general.groupby('genre')['time'].count().sort_values(ascending=False)"
   ]
  },
  {
   "cell_type": "code",
   "execution_count": 33,
   "metadata": {
    "id": "WhCSooF8_Zcv"
   },
   "outputs": [
    {
     "data": {
      "text/plain": [
       "genre\n",
       "pop            5892\n",
       "dance          4435\n",
       "rock           3965\n",
       "electronic     3786\n",
       "hiphop         2096\n",
       "classical      1616\n",
       "world          1432\n",
       "alternative    1379\n",
       "ruspop         1372\n",
       "rusrap         1161\n",
       "Name: time, dtype: int64"
      ]
     },
     "execution_count": 33,
     "metadata": {},
     "output_type": "execute_result"
    }
   ],
   "source": [
    "# просмотр первых 10 строк moscow_genres\n",
    "moscow_genres.head(10) "
   ]
  },
  {
   "cell_type": "code",
   "execution_count": 34,
   "metadata": {
    "id": "gluLIpE7_Zcv"
   },
   "outputs": [],
   "source": [
    "# сгруппируем таблицу spb_general по жанру\n",
    "spb_genres = spb_general.groupby('genre')['time'].count().sort_values(ascending=False)"
   ]
  },
  {
   "cell_type": "code",
   "execution_count": 35,
   "metadata": {
    "id": "uaGJHjVU_Zcv"
   },
   "outputs": [
    {
     "data": {
      "text/plain": [
       "genre\n",
       "pop            2431\n",
       "dance          1932\n",
       "rock           1879\n",
       "electronic     1737\n",
       "hiphop          960\n",
       "alternative     649\n",
       "classical       646\n",
       "rusrap          564\n",
       "ruspop          538\n",
       "world           515\n",
       "Name: time, dtype: int64"
      ]
     },
     "execution_count": 35,
     "metadata": {},
     "output_type": "execute_result"
    }
   ],
   "source": [
    "# просмотр первых 10 строк spb_genres\n",
    "spb_genres.head(10) "
   ]
  },
  {
   "cell_type": "markdown",
   "metadata": {
    "id": "nVhnJEm__Zcv"
   },
   "source": [
    "**Вывод:**   \n",
    "\n",
    "Гипотеза частично подтвердилась:\n",
    "* Поп-музыка — самый популярный жанр в Москве, как и предполагала гипотеза. Более того, в топ-10 жанров встречается близкий жанр — русская популярная музыка.\n",
    "* Вопреки ожиданиям, рэп одинаково популярен в Москве и Петербурге. \n"
   ]
  },
  {
   "cell_type": "markdown",
   "metadata": {
    "id": "ykKQ0N65_Zcv"
   },
   "source": [
    "## Итоги исследования"
   ]
  },
  {
   "cell_type": "markdown",
   "metadata": {
    "id": "tjUwbHb3_Zcv"
   },
   "source": [
    "Мы проверили три гипотезы и установили, что:\n",
    "\n",
    "1. День недели по-разному влияет на активность пользователей в Москве и Петербурге. \n",
    "\n",
    "Первая гипотеза полностью подтвердилась.\n",
    "\n",
    "2. Музыкальные предпочтения не сильно меняются в течение недели — будь то Москва или Петербург. Небольшие различия заметны в начале недели, по понедельникам:\n",
    "- в Москве слушают музыку жанра “world”,\n",
    "- в Петербурге — джаз и классику.\n",
    "\n",
    "Таким образом, вторая гипотеза подтвердилась лишь отчасти. Этот результат мог оказаться иным, если бы не пропуски в данных.\n",
    "\n",
    "3. Во вкусах пользователей Москвы и Петербурга больше общего чем различий. Вопреки ожиданиям, предпочтения жанров в Петербурге напоминают московские.\n",
    "\n",
    "Третья гипотеза не подтвердилась. Если различия в предпочтениях и существуют, на основной массе пользователей они незаметны."
   ]
  }
 ],
 "metadata": {
  "ExecuteTimeLog": [
   {
    "duration": 458,
    "start_time": "2021-11-23T08:52:11.937Z"
   },
   {
    "duration": 453,
    "start_time": "2021-11-23T09:56:25.230Z"
   },
   {
    "duration": 434,
    "start_time": "2021-11-23T09:57:31.857Z"
   },
   {
    "duration": 440,
    "start_time": "2021-11-23T09:57:36.659Z"
   },
   {
    "duration": 507,
    "start_time": "2021-11-23T10:00:39.006Z"
   },
   {
    "duration": 434,
    "start_time": "2021-11-23T10:00:54.018Z"
   },
   {
    "duration": 497,
    "start_time": "2021-11-23T10:01:05.518Z"
   },
   {
    "duration": 412,
    "start_time": "2021-11-23T10:01:50.147Z"
   },
   {
    "duration": 424,
    "start_time": "2021-11-23T10:02:01.900Z"
   },
   {
    "duration": 573,
    "start_time": "2021-11-23T10:02:41.859Z"
   },
   {
    "duration": 388,
    "start_time": "2021-11-23T10:03:24.310Z"
   },
   {
    "duration": 377,
    "start_time": "2021-11-23T10:03:59.517Z"
   },
   {
    "duration": 803,
    "start_time": "2021-11-23T10:04:58.871Z"
   },
   {
    "duration": 192,
    "start_time": "2021-11-23T10:05:04.110Z"
   },
   {
    "duration": 37,
    "start_time": "2021-11-23T10:05:11.186Z"
   },
   {
    "duration": 16,
    "start_time": "2021-11-23T10:05:36.218Z"
   },
   {
    "duration": 15,
    "start_time": "2021-11-23T10:05:58.298Z"
   },
   {
    "duration": 31,
    "start_time": "2021-11-23T10:06:01.819Z"
   },
   {
    "duration": 431,
    "start_time": "2021-11-23T10:15:10.960Z"
   },
   {
    "duration": 6,
    "start_time": "2021-11-23T10:15:19.951Z"
   },
   {
    "duration": 5,
    "start_time": "2021-11-23T10:16:31.459Z"
   },
   {
    "duration": 8,
    "start_time": "2021-11-23T10:17:13.941Z"
   },
   {
    "duration": 176,
    "start_time": "2021-11-23T10:21:11.032Z"
   },
   {
    "duration": 25,
    "start_time": "2021-11-23T10:21:26.539Z"
   },
   {
    "duration": 6,
    "start_time": "2021-11-23T10:21:50.278Z"
   },
   {
    "duration": 467,
    "start_time": "2021-11-23T10:24:18.259Z"
   },
   {
    "duration": 387,
    "start_time": "2021-11-23T10:24:26.045Z"
   },
   {
    "duration": 33,
    "start_time": "2021-11-23T10:25:46.259Z"
   },
   {
    "duration": 39,
    "start_time": "2021-11-23T10:26:15.319Z"
   },
   {
    "duration": 33,
    "start_time": "2021-11-23T10:26:25.602Z"
   },
   {
    "duration": 23,
    "start_time": "2021-11-23T10:44:34.691Z"
   },
   {
    "duration": 22,
    "start_time": "2021-11-23T10:44:45.738Z"
   },
   {
    "duration": 22,
    "start_time": "2021-11-23T10:44:49.923Z"
   },
   {
    "duration": 22,
    "start_time": "2021-11-23T10:44:52.118Z"
   },
   {
    "duration": 23,
    "start_time": "2021-11-23T10:44:52.993Z"
   },
   {
    "duration": 30,
    "start_time": "2021-11-23T10:46:07.335Z"
   },
   {
    "duration": 87,
    "start_time": "2021-11-23T10:47:19.325Z"
   },
   {
    "duration": 81,
    "start_time": "2021-11-23T10:47:29.842Z"
   },
   {
    "duration": 107,
    "start_time": "2021-11-23T10:49:26.310Z"
   },
   {
    "duration": 80,
    "start_time": "2021-11-23T10:49:49.631Z"
   },
   {
    "duration": 114,
    "start_time": "2021-11-23T10:51:44.960Z"
   },
   {
    "duration": 79,
    "start_time": "2021-11-23T10:51:50.043Z"
   },
   {
    "duration": 103,
    "start_time": "2021-11-23T10:52:21.993Z"
   },
   {
    "duration": 84,
    "start_time": "2021-11-23T10:52:25.211Z"
   },
   {
    "duration": 102,
    "start_time": "2021-11-23T10:59:51.678Z"
   },
   {
    "duration": 105,
    "start_time": "2021-11-23T11:01:00.931Z"
   },
   {
    "duration": 81,
    "start_time": "2021-11-23T11:01:15.990Z"
   },
   {
    "duration": 100,
    "start_time": "2021-11-23T11:01:19.345Z"
   },
   {
    "duration": 31,
    "start_time": "2021-11-23T11:01:28.591Z"
   },
   {
    "duration": 78,
    "start_time": "2021-11-23T11:01:32.143Z"
   },
   {
    "duration": 100,
    "start_time": "2021-11-23T11:01:34.132Z"
   },
   {
    "duration": 23,
    "start_time": "2021-11-23T11:01:38.371Z"
   },
   {
    "duration": 11,
    "start_time": "2021-11-23T11:03:51.277Z"
   },
   {
    "duration": 82,
    "start_time": "2021-11-23T11:04:08.755Z"
   },
   {
    "duration": 100,
    "start_time": "2021-11-23T11:04:15.496Z"
   },
   {
    "duration": 282,
    "start_time": "2021-11-23T12:46:49.653Z"
   },
   {
    "duration": 243,
    "start_time": "2021-11-23T12:47:12.994Z"
   },
   {
    "duration": 269,
    "start_time": "2021-11-23T12:47:22.630Z"
   },
   {
    "duration": 316,
    "start_time": "2021-11-23T12:47:28.091Z"
   },
   {
    "duration": 607,
    "start_time": "2021-11-23T12:47:44.984Z"
   },
   {
    "duration": 118,
    "start_time": "2021-11-23T12:47:45.592Z"
   },
   {
    "duration": 15,
    "start_time": "2021-11-23T12:47:45.712Z"
   },
   {
    "duration": 26,
    "start_time": "2021-11-23T12:47:45.729Z"
   },
   {
    "duration": 7,
    "start_time": "2021-11-23T12:47:45.757Z"
   },
   {
    "duration": 32,
    "start_time": "2021-11-23T12:47:45.766Z"
   },
   {
    "duration": 21,
    "start_time": "2021-11-23T12:47:45.800Z"
   },
   {
    "duration": 39,
    "start_time": "2021-11-23T12:47:45.823Z"
   },
   {
    "duration": 34,
    "start_time": "2021-11-23T12:47:45.864Z"
   },
   {
    "duration": 21,
    "start_time": "2021-11-23T12:47:45.900Z"
   },
   {
    "duration": 74,
    "start_time": "2021-11-23T12:47:45.923Z"
   },
   {
    "duration": 73,
    "start_time": "2021-11-23T12:47:45.999Z"
   },
   {
    "duration": 54,
    "start_time": "2021-11-23T12:47:46.074Z"
   },
   {
    "duration": 3,
    "start_time": "2021-11-23T12:47:46.129Z"
   },
   {
    "duration": 8,
    "start_time": "2021-11-23T12:47:46.133Z"
   },
   {
    "duration": 5,
    "start_time": "2021-11-23T12:47:46.142Z"
   },
   {
    "duration": 4,
    "start_time": "2021-11-23T12:47:46.149Z"
   },
   {
    "duration": 5,
    "start_time": "2021-11-23T12:47:46.155Z"
   },
   {
    "duration": 7,
    "start_time": "2021-11-23T12:47:46.161Z"
   },
   {
    "duration": 19,
    "start_time": "2021-11-23T12:47:46.169Z"
   },
   {
    "duration": 8,
    "start_time": "2021-11-23T12:47:46.189Z"
   },
   {
    "duration": 9,
    "start_time": "2021-11-23T12:47:46.199Z"
   },
   {
    "duration": 9,
    "start_time": "2021-11-23T12:47:46.209Z"
   },
   {
    "duration": 8,
    "start_time": "2021-11-23T12:47:46.219Z"
   },
   {
    "duration": 12,
    "start_time": "2021-11-23T12:47:46.228Z"
   },
   {
    "duration": 11,
    "start_time": "2021-11-23T12:47:46.241Z"
   },
   {
    "duration": 4,
    "start_time": "2021-11-23T12:47:46.254Z"
   },
   {
    "duration": 5,
    "start_time": "2021-11-23T12:47:46.259Z"
   },
   {
    "duration": 10,
    "start_time": "2021-11-23T12:47:46.265Z"
   },
   {
    "duration": 7,
    "start_time": "2021-11-23T12:47:46.277Z"
   },
   {
    "duration": 9,
    "start_time": "2021-11-23T12:47:46.285Z"
   },
   {
    "duration": 8,
    "start_time": "2021-11-23T12:47:46.295Z"
   },
   {
    "duration": 12,
    "start_time": "2021-11-23T12:47:46.304Z"
   },
   {
    "duration": 5,
    "start_time": "2021-11-23T12:47:46.317Z"
   },
   {
    "duration": 7,
    "start_time": "2021-11-23T12:47:46.324Z"
   },
   {
    "duration": 4,
    "start_time": "2021-11-23T12:47:46.333Z"
   },
   {
    "duration": 10,
    "start_time": "2021-11-23T12:47:46.338Z"
   },
   {
    "duration": 8,
    "start_time": "2021-11-23T12:47:46.349Z"
   },
   {
    "duration": 55,
    "start_time": "2021-11-23T12:48:09.956Z"
   },
   {
    "duration": 45,
    "start_time": "2021-11-23T12:48:16.181Z"
   },
   {
    "duration": 8,
    "start_time": "2021-11-23T12:51:06.183Z"
   },
   {
    "duration": 10,
    "start_time": "2021-11-23T12:51:59.421Z"
   },
   {
    "duration": 5,
    "start_time": "2021-11-23T12:57:01.833Z"
   },
   {
    "duration": 3,
    "start_time": "2021-11-23T13:07:38.187Z"
   },
   {
    "duration": 245,
    "start_time": "2021-11-23T13:07:41.239Z"
   },
   {
    "duration": 9,
    "start_time": "2021-11-23T13:07:50.718Z"
   },
   {
    "duration": 3,
    "start_time": "2021-11-23T13:07:58.606Z"
   },
   {
    "duration": 10,
    "start_time": "2021-11-23T13:08:02.908Z"
   },
   {
    "duration": 8,
    "start_time": "2021-11-23T13:09:22.544Z"
   },
   {
    "duration": 9,
    "start_time": "2021-11-23T13:10:26.598Z"
   },
   {
    "duration": 237,
    "start_time": "2021-11-23T13:24:22.181Z"
   },
   {
    "duration": 42,
    "start_time": "2021-11-23T13:24:30.120Z"
   },
   {
    "duration": 42,
    "start_time": "2021-11-23T13:24:32.352Z"
   },
   {
    "duration": 48,
    "start_time": "2021-11-23T13:24:47.469Z"
   },
   {
    "duration": 11,
    "start_time": "2021-11-23T13:25:51.899Z"
   },
   {
    "duration": 30,
    "start_time": "2021-11-23T13:26:04.082Z"
   },
   {
    "duration": 10,
    "start_time": "2021-11-23T13:26:24.258Z"
   },
   {
    "duration": 8,
    "start_time": "2021-11-23T13:26:57.615Z"
   },
   {
    "duration": 8,
    "start_time": "2021-11-23T13:27:00.825Z"
   },
   {
    "duration": 10,
    "start_time": "2021-11-23T13:27:12.731Z"
   },
   {
    "duration": 5,
    "start_time": "2021-11-23T13:28:55.400Z"
   },
   {
    "duration": 93,
    "start_time": "2021-11-23T13:30:55.612Z"
   },
   {
    "duration": 8,
    "start_time": "2021-11-23T13:31:01.890Z"
   },
   {
    "duration": 10,
    "start_time": "2021-11-23T13:31:08.280Z"
   },
   {
    "duration": 11,
    "start_time": "2021-11-23T13:40:34.152Z"
   },
   {
    "duration": 9,
    "start_time": "2021-11-23T13:40:37.290Z"
   },
   {
    "duration": 3,
    "start_time": "2021-11-23T13:49:06.796Z"
   },
   {
    "duration": 94,
    "start_time": "2021-11-23T13:54:56.856Z"
   },
   {
    "duration": 609,
    "start_time": "2021-11-23T13:57:26.319Z"
   },
   {
    "duration": 90,
    "start_time": "2021-11-23T14:01:15.792Z"
   },
   {
    "duration": 82,
    "start_time": "2021-11-23T14:01:25.249Z"
   },
   {
    "duration": 81,
    "start_time": "2021-11-23T14:01:33.921Z"
   },
   {
    "duration": 3,
    "start_time": "2021-11-23T14:01:39.316Z"
   },
   {
    "duration": 14,
    "start_time": "2021-11-23T14:06:29.750Z"
   },
   {
    "duration": 3,
    "start_time": "2021-11-23T14:06:36.473Z"
   },
   {
    "duration": 2,
    "start_time": "2021-11-23T14:07:11.671Z"
   },
   {
    "duration": 135,
    "start_time": "2021-11-23T14:07:11.675Z"
   },
   {
    "duration": 8,
    "start_time": "2021-11-23T14:07:11.812Z"
   },
   {
    "duration": 53,
    "start_time": "2021-11-23T14:07:11.822Z"
   },
   {
    "duration": 34,
    "start_time": "2021-11-23T14:07:11.876Z"
   },
   {
    "duration": 30,
    "start_time": "2021-11-23T14:07:11.912Z"
   },
   {
    "duration": 31,
    "start_time": "2021-11-23T14:07:11.944Z"
   },
   {
    "duration": 49,
    "start_time": "2021-11-23T14:07:11.977Z"
   },
   {
    "duration": 41,
    "start_time": "2021-11-23T14:07:12.028Z"
   },
   {
    "duration": 42,
    "start_time": "2021-11-23T14:07:12.070Z"
   },
   {
    "duration": 61,
    "start_time": "2021-11-23T14:07:12.114Z"
   },
   {
    "duration": 50,
    "start_time": "2021-11-23T14:07:12.177Z"
   },
   {
    "duration": 43,
    "start_time": "2021-11-23T14:07:12.228Z"
   },
   {
    "duration": 16,
    "start_time": "2021-11-23T14:07:12.272Z"
   },
   {
    "duration": 27,
    "start_time": "2021-11-23T14:07:12.290Z"
   },
   {
    "duration": 27,
    "start_time": "2021-11-23T14:07:12.318Z"
   },
   {
    "duration": 26,
    "start_time": "2021-11-23T14:07:12.347Z"
   },
   {
    "duration": 52,
    "start_time": "2021-11-23T14:07:12.374Z"
   },
   {
    "duration": 19,
    "start_time": "2021-11-23T14:07:12.428Z"
   },
   {
    "duration": 18,
    "start_time": "2021-11-23T14:07:12.448Z"
   },
   {
    "duration": 35,
    "start_time": "2021-11-23T14:07:12.468Z"
   },
   {
    "duration": 12,
    "start_time": "2021-11-23T14:07:12.505Z"
   },
   {
    "duration": 34,
    "start_time": "2021-11-23T14:07:12.520Z"
   },
   {
    "duration": 22,
    "start_time": "2021-11-23T14:07:12.555Z"
   },
   {
    "duration": 19,
    "start_time": "2021-11-23T14:07:12.578Z"
   },
   {
    "duration": 21,
    "start_time": "2021-11-23T14:07:12.598Z"
   },
   {
    "duration": 12,
    "start_time": "2021-11-23T14:07:12.621Z"
   },
   {
    "duration": 23,
    "start_time": "2021-11-23T14:07:12.634Z"
   },
   {
    "duration": 29,
    "start_time": "2021-11-23T14:07:12.658Z"
   },
   {
    "duration": 30,
    "start_time": "2021-11-23T14:07:12.689Z"
   },
   {
    "duration": 35,
    "start_time": "2021-11-23T14:07:12.720Z"
   },
   {
    "duration": 25,
    "start_time": "2021-11-23T14:07:12.756Z"
   },
   {
    "duration": 43,
    "start_time": "2021-11-23T14:07:12.782Z"
   },
   {
    "duration": 34,
    "start_time": "2021-11-23T14:07:12.827Z"
   },
   {
    "duration": 21,
    "start_time": "2021-11-23T14:07:12.863Z"
   },
   {
    "duration": 30,
    "start_time": "2021-11-23T14:07:12.885Z"
   },
   {
    "duration": 26,
    "start_time": "2021-11-23T14:07:12.916Z"
   },
   {
    "duration": 39,
    "start_time": "2021-11-23T14:07:12.943Z"
   },
   {
    "duration": 258,
    "start_time": "2021-11-23T14:10:48.277Z"
   },
   {
    "duration": 295,
    "start_time": "2021-11-23T14:11:16.924Z"
   },
   {
    "duration": 270,
    "start_time": "2021-11-23T14:13:44.927Z"
   },
   {
    "duration": 299,
    "start_time": "2021-11-23T14:20:17.339Z"
   },
   {
    "duration": 328,
    "start_time": "2021-11-23T14:21:18.751Z"
   },
   {
    "duration": 292,
    "start_time": "2021-11-23T14:21:37.891Z"
   },
   {
    "duration": 357,
    "start_time": "2021-11-23T14:21:49.419Z"
   },
   {
    "duration": 333,
    "start_time": "2021-11-23T14:22:34.517Z"
   },
   {
    "duration": 287,
    "start_time": "2021-11-23T14:22:46.008Z"
   },
   {
    "duration": 288,
    "start_time": "2021-11-23T14:25:28.466Z"
   },
   {
    "duration": 304,
    "start_time": "2021-11-23T14:25:53.506Z"
   },
   {
    "duration": 60,
    "start_time": "2021-11-23T14:28:42.871Z"
   },
   {
    "duration": 59,
    "start_time": "2021-11-23T14:29:05.925Z"
   },
   {
    "duration": 62,
    "start_time": "2021-11-23T14:29:41.038Z"
   },
   {
    "duration": 3,
    "start_time": "2021-11-23T14:31:13.220Z"
   },
   {
    "duration": 59,
    "start_time": "2021-11-23T14:31:18.299Z"
   },
   {
    "duration": 10,
    "start_time": "2021-11-23T15:37:31.757Z"
   },
   {
    "duration": 8,
    "start_time": "2021-11-23T15:37:33.527Z"
   },
   {
    "duration": 13,
    "start_time": "2021-11-23T15:37:35.259Z"
   },
   {
    "duration": 220,
    "start_time": "2021-11-23T15:51:07.968Z"
   },
   {
    "duration": 244,
    "start_time": "2021-11-23T15:51:33.380Z"
   },
   {
    "duration": 3,
    "start_time": "2021-11-23T15:52:00.481Z"
   },
   {
    "duration": 3,
    "start_time": "2021-11-23T15:52:05.813Z"
   },
   {
    "duration": 4,
    "start_time": "2021-11-23T15:53:15.528Z"
   },
   {
    "duration": 894,
    "start_time": "2021-11-23T15:56:29.196Z"
   },
   {
    "duration": 578,
    "start_time": "2021-11-23T15:59:58.018Z"
   },
   {
    "duration": 903,
    "start_time": "2021-11-23T16:00:15.043Z"
   },
   {
    "duration": 531,
    "start_time": "2021-11-23T16:01:22.439Z"
   },
   {
    "duration": 2,
    "start_time": "2021-11-23T16:02:29.079Z"
   },
   {
    "duration": 147,
    "start_time": "2021-11-23T16:02:29.083Z"
   },
   {
    "duration": 9,
    "start_time": "2021-11-23T16:02:29.232Z"
   },
   {
    "duration": 46,
    "start_time": "2021-11-23T16:02:29.243Z"
   },
   {
    "duration": 30,
    "start_time": "2021-11-23T16:02:29.290Z"
   },
   {
    "duration": 30,
    "start_time": "2021-11-23T16:02:29.321Z"
   },
   {
    "duration": 15,
    "start_time": "2021-11-23T16:02:29.352Z"
   },
   {
    "duration": 35,
    "start_time": "2021-11-23T16:02:29.369Z"
   },
   {
    "duration": 43,
    "start_time": "2021-11-23T16:02:29.406Z"
   },
   {
    "duration": 45,
    "start_time": "2021-11-23T16:02:29.450Z"
   },
   {
    "duration": 52,
    "start_time": "2021-11-23T16:02:29.496Z"
   },
   {
    "duration": 62,
    "start_time": "2021-11-23T16:02:29.550Z"
   },
   {
    "duration": 44,
    "start_time": "2021-11-23T16:02:29.614Z"
   },
   {
    "duration": 8,
    "start_time": "2021-11-23T16:02:29.659Z"
   },
   {
    "duration": 23,
    "start_time": "2021-11-23T16:02:29.668Z"
   },
   {
    "duration": 21,
    "start_time": "2021-11-23T16:02:29.692Z"
   },
   {
    "duration": 29,
    "start_time": "2021-11-23T16:02:29.714Z"
   },
   {
    "duration": 24,
    "start_time": "2021-11-23T16:02:29.744Z"
   },
   {
    "duration": 13,
    "start_time": "2021-11-23T16:02:29.770Z"
   },
   {
    "duration": 31,
    "start_time": "2021-11-23T16:02:29.785Z"
   },
   {
    "duration": 37,
    "start_time": "2021-11-23T16:02:29.817Z"
   },
   {
    "duration": 11,
    "start_time": "2021-11-23T16:02:29.855Z"
   },
   {
    "duration": 22,
    "start_time": "2021-11-23T16:02:29.869Z"
   },
   {
    "duration": 19,
    "start_time": "2021-11-23T16:02:29.893Z"
   },
   {
    "duration": 14,
    "start_time": "2021-11-23T16:02:29.913Z"
   },
   {
    "duration": 22,
    "start_time": "2021-11-23T16:02:29.928Z"
   },
   {
    "duration": 81,
    "start_time": "2021-11-23T16:02:29.952Z"
   },
   {
    "duration": 10,
    "start_time": "2021-11-23T16:02:30.034Z"
   },
   {
    "duration": 37,
    "start_time": "2021-11-23T16:02:30.045Z"
   },
   {
    "duration": 17,
    "start_time": "2021-11-23T16:02:30.084Z"
   },
   {
    "duration": 565,
    "start_time": "2021-11-23T16:02:30.102Z"
   },
   {
    "duration": 34,
    "start_time": "2021-11-23T16:02:30.634Z"
   },
   {
    "duration": 33,
    "start_time": "2021-11-23T16:02:30.636Z"
   },
   {
    "duration": 32,
    "start_time": "2021-11-23T16:02:30.638Z"
   },
   {
    "duration": 32,
    "start_time": "2021-11-23T16:02:30.639Z"
   },
   {
    "duration": 30,
    "start_time": "2021-11-23T16:02:30.641Z"
   },
   {
    "duration": 30,
    "start_time": "2021-11-23T16:02:30.642Z"
   },
   {
    "duration": 30,
    "start_time": "2021-11-23T16:02:30.643Z"
   },
   {
    "duration": 560,
    "start_time": "2021-11-23T16:04:55.685Z"
   },
   {
    "duration": 4,
    "start_time": "2021-11-23T16:04:58.035Z"
   },
   {
    "duration": 581,
    "start_time": "2021-11-23T16:05:00.843Z"
   },
   {
    "duration": 4,
    "start_time": "2021-11-23T16:08:22.388Z"
   },
   {
    "duration": 516,
    "start_time": "2021-11-23T16:08:24.239Z"
   },
   {
    "duration": 4,
    "start_time": "2021-11-23T16:09:44.548Z"
   },
   {
    "duration": 530,
    "start_time": "2021-11-23T16:09:46.609Z"
   },
   {
    "duration": 4,
    "start_time": "2021-11-23T16:10:31.077Z"
   },
   {
    "duration": 5,
    "start_time": "2021-11-23T16:10:36.588Z"
   },
   {
    "duration": 496,
    "start_time": "2021-11-23T16:10:39.422Z"
   },
   {
    "duration": 9,
    "start_time": "2021-11-23T16:11:38.815Z"
   },
   {
    "duration": 520,
    "start_time": "2021-11-23T16:11:42.537Z"
   },
   {
    "duration": 4,
    "start_time": "2021-11-23T16:12:52.454Z"
   },
   {
    "duration": 26,
    "start_time": "2021-11-23T16:12:55.395Z"
   },
   {
    "duration": 2,
    "start_time": "2021-11-23T16:16:11.912Z"
   },
   {
    "duration": 201,
    "start_time": "2021-11-23T16:16:11.924Z"
   },
   {
    "duration": 15,
    "start_time": "2021-11-23T16:16:12.127Z"
   },
   {
    "duration": 56,
    "start_time": "2021-11-23T16:16:12.144Z"
   },
   {
    "duration": 5,
    "start_time": "2021-11-23T16:16:12.203Z"
   },
   {
    "duration": 24,
    "start_time": "2021-11-23T16:16:12.210Z"
   },
   {
    "duration": 4,
    "start_time": "2021-11-23T16:16:12.236Z"
   },
   {
    "duration": 22,
    "start_time": "2021-11-23T16:16:12.242Z"
   },
   {
    "duration": 17,
    "start_time": "2021-11-23T16:16:12.289Z"
   },
   {
    "duration": 21,
    "start_time": "2021-11-23T16:16:12.308Z"
   },
   {
    "duration": 68,
    "start_time": "2021-11-23T16:16:12.331Z"
   },
   {
    "duration": 55,
    "start_time": "2021-11-23T16:16:12.401Z"
   },
   {
    "duration": 63,
    "start_time": "2021-11-23T16:16:12.457Z"
   },
   {
    "duration": 10,
    "start_time": "2021-11-23T16:16:12.522Z"
   },
   {
    "duration": 3,
    "start_time": "2021-11-23T16:16:12.534Z"
   },
   {
    "duration": 18,
    "start_time": "2021-11-23T16:16:12.539Z"
   },
   {
    "duration": 9,
    "start_time": "2021-11-23T16:16:12.559Z"
   },
   {
    "duration": 10,
    "start_time": "2021-11-23T16:16:12.588Z"
   },
   {
    "duration": 9,
    "start_time": "2021-11-23T16:16:12.599Z"
   },
   {
    "duration": 3,
    "start_time": "2021-11-23T16:16:12.610Z"
   },
   {
    "duration": 19,
    "start_time": "2021-11-23T16:16:12.614Z"
   },
   {
    "duration": 12,
    "start_time": "2021-11-23T16:16:12.635Z"
   },
   {
    "duration": 41,
    "start_time": "2021-11-23T16:16:12.648Z"
   },
   {
    "duration": 13,
    "start_time": "2021-11-23T16:16:12.692Z"
   },
   {
    "duration": 21,
    "start_time": "2021-11-23T16:16:12.707Z"
   },
   {
    "duration": 20,
    "start_time": "2021-11-23T16:16:12.730Z"
   },
   {
    "duration": 126,
    "start_time": "2021-11-23T16:16:12.752Z"
   },
   {
    "duration": 19,
    "start_time": "2021-11-23T16:16:12.880Z"
   },
   {
    "duration": 14,
    "start_time": "2021-11-23T16:16:12.901Z"
   },
   {
    "duration": 5,
    "start_time": "2021-11-23T16:16:12.918Z"
   },
   {
    "duration": 43,
    "start_time": "2021-11-23T16:16:12.925Z"
   },
   {
    "duration": 40,
    "start_time": "2021-11-23T16:16:12.970Z"
   },
   {
    "duration": 30,
    "start_time": "2021-11-23T16:16:13.012Z"
   },
   {
    "duration": 22,
    "start_time": "2021-11-23T16:16:13.044Z"
   },
   {
    "duration": 20,
    "start_time": "2021-11-23T16:16:13.068Z"
   },
   {
    "duration": 2,
    "start_time": "2021-11-23T16:16:13.090Z"
   },
   {
    "duration": 7,
    "start_time": "2021-11-23T16:16:13.094Z"
   },
   {
    "duration": 4,
    "start_time": "2021-11-23T16:16:13.103Z"
   },
   {
    "duration": 309,
    "start_time": "2021-11-24T08:05:38.872Z"
   },
   {
    "duration": 822,
    "start_time": "2021-11-24T08:05:44.167Z"
   },
   {
    "duration": 189,
    "start_time": "2021-11-24T08:05:44.992Z"
   },
   {
    "duration": 45,
    "start_time": "2021-11-24T08:05:45.184Z"
   },
   {
    "duration": 33,
    "start_time": "2021-11-24T08:05:45.232Z"
   },
   {
    "duration": 5,
    "start_time": "2021-11-24T08:05:45.268Z"
   },
   {
    "duration": 56,
    "start_time": "2021-11-24T08:05:45.275Z"
   },
   {
    "duration": 5,
    "start_time": "2021-11-24T08:05:45.334Z"
   },
   {
    "duration": 32,
    "start_time": "2021-11-24T08:05:45.344Z"
   },
   {
    "duration": 23,
    "start_time": "2021-11-24T08:05:45.379Z"
   },
   {
    "duration": 30,
    "start_time": "2021-11-24T08:05:45.430Z"
   },
   {
    "duration": 109,
    "start_time": "2021-11-24T08:05:45.462Z"
   },
   {
    "duration": 115,
    "start_time": "2021-11-24T08:05:45.574Z"
   },
   {
    "duration": 84,
    "start_time": "2021-11-24T08:05:45.692Z"
   },
   {
    "duration": 14,
    "start_time": "2021-11-24T08:05:45.778Z"
   },
   {
    "duration": 5,
    "start_time": "2021-11-24T08:05:45.795Z"
   },
   {
    "duration": 31,
    "start_time": "2021-11-24T08:05:45.803Z"
   },
   {
    "duration": 18,
    "start_time": "2021-11-24T08:05:45.836Z"
   },
   {
    "duration": 16,
    "start_time": "2021-11-24T08:05:45.857Z"
   },
   {
    "duration": 53,
    "start_time": "2021-11-24T08:05:45.875Z"
   },
   {
    "duration": 5,
    "start_time": "2021-11-24T08:05:45.931Z"
   },
   {
    "duration": 29,
    "start_time": "2021-11-24T08:05:45.938Z"
   },
   {
    "duration": 18,
    "start_time": "2021-11-24T08:05:45.970Z"
   },
   {
    "duration": 44,
    "start_time": "2021-11-24T08:05:45.993Z"
   },
   {
    "duration": 17,
    "start_time": "2021-11-24T08:05:46.040Z"
   },
   {
    "duration": 20,
    "start_time": "2021-11-24T08:05:46.059Z"
   },
   {
    "duration": 52,
    "start_time": "2021-11-24T08:05:46.082Z"
   },
   {
    "duration": 102,
    "start_time": "2021-11-24T08:05:46.137Z"
   },
   {
    "duration": 15,
    "start_time": "2021-11-24T08:05:46.241Z"
   },
   {
    "duration": 12,
    "start_time": "2021-11-24T08:05:46.258Z"
   },
   {
    "duration": 9,
    "start_time": "2021-11-24T08:05:46.273Z"
   },
   {
    "duration": 66,
    "start_time": "2021-11-24T08:05:46.284Z"
   },
   {
    "duration": 24,
    "start_time": "2021-11-24T08:05:46.352Z"
   },
   {
    "duration": 54,
    "start_time": "2021-11-24T08:05:46.378Z"
   },
   {
    "duration": 22,
    "start_time": "2021-11-24T08:05:46.435Z"
   },
   {
    "duration": 351,
    "start_time": "2021-11-24T08:05:46.459Z"
   },
   {
    "duration": -5,
    "start_time": "2021-11-24T08:05:46.818Z"
   },
   {
    "duration": -6,
    "start_time": "2021-11-24T08:05:46.820Z"
   },
   {
    "duration": -6,
    "start_time": "2021-11-24T08:05:46.821Z"
   },
   {
    "duration": 257,
    "start_time": "2021-11-24T08:08:06.629Z"
   },
   {
    "duration": 283,
    "start_time": "2021-11-24T08:08:41.857Z"
   },
   {
    "duration": 260,
    "start_time": "2021-11-24T08:09:07.797Z"
   },
   {
    "duration": 286,
    "start_time": "2021-11-24T08:10:33.460Z"
   },
   {
    "duration": 272,
    "start_time": "2021-11-24T08:11:41.932Z"
   },
   {
    "duration": 86,
    "start_time": "2021-11-24T08:11:58.677Z"
   },
   {
    "duration": 263,
    "start_time": "2021-11-24T08:14:01.862Z"
   },
   {
    "duration": 253,
    "start_time": "2021-11-24T08:14:14.430Z"
   },
   {
    "duration": 334,
    "start_time": "2021-11-24T08:14:34.204Z"
   },
   {
    "duration": 11,
    "start_time": "2021-11-24T08:14:52.785Z"
   },
   {
    "duration": 11,
    "start_time": "2021-11-24T08:14:57.659Z"
   },
   {
    "duration": 11,
    "start_time": "2021-11-24T08:14:58.503Z"
   },
   {
    "duration": 11,
    "start_time": "2021-11-24T08:14:59.502Z"
   },
   {
    "duration": 7,
    "start_time": "2021-11-24T08:15:05.951Z"
   },
   {
    "duration": 13,
    "start_time": "2021-11-24T08:15:12.837Z"
   },
   {
    "duration": 8,
    "start_time": "2021-11-24T08:15:16.293Z"
   },
   {
    "duration": 8,
    "start_time": "2021-11-24T08:15:18.830Z"
   },
   {
    "duration": 11,
    "start_time": "2021-11-24T08:15:22.534Z"
   },
   {
    "duration": 7,
    "start_time": "2021-11-24T08:15:24.495Z"
   },
   {
    "duration": 255,
    "start_time": "2021-11-24T08:16:51.087Z"
   },
   {
    "duration": 271,
    "start_time": "2021-11-24T08:17:17.534Z"
   },
   {
    "duration": 10,
    "start_time": "2021-11-24T08:17:26.378Z"
   },
   {
    "duration": 6,
    "start_time": "2021-11-24T08:17:29.885Z"
   },
   {
    "duration": 6,
    "start_time": "2021-11-24T08:17:45.896Z"
   },
   {
    "duration": 10,
    "start_time": "2021-11-24T08:17:52.992Z"
   },
   {
    "duration": 7,
    "start_time": "2021-11-24T08:17:55.553Z"
   },
   {
    "duration": 134,
    "start_time": "2021-11-24T10:19:31.951Z"
   },
   {
    "duration": 125,
    "start_time": "2021-11-24T10:23:13.696Z"
   },
   {
    "duration": 78,
    "start_time": "2021-11-24T15:19:37.220Z"
   },
   {
    "duration": 292,
    "start_time": "2021-11-24T15:20:25.071Z"
   },
   {
    "duration": 260,
    "start_time": "2021-11-24T15:20:33.353Z"
   },
   {
    "duration": 589,
    "start_time": "2021-11-24T15:20:45.171Z"
   },
   {
    "duration": 121,
    "start_time": "2021-11-24T15:20:45.762Z"
   },
   {
    "duration": 15,
    "start_time": "2021-11-24T15:20:45.885Z"
   },
   {
    "duration": 28,
    "start_time": "2021-11-24T15:20:45.902Z"
   },
   {
    "duration": 18,
    "start_time": "2021-11-24T15:20:45.931Z"
   },
   {
    "duration": 31,
    "start_time": "2021-11-24T15:20:45.950Z"
   },
   {
    "duration": 3,
    "start_time": "2021-11-24T15:20:45.982Z"
   },
   {
    "duration": 23,
    "start_time": "2021-11-24T15:20:45.987Z"
   },
   {
    "duration": 16,
    "start_time": "2021-11-24T15:20:46.012Z"
   },
   {
    "duration": 21,
    "start_time": "2021-11-24T15:20:46.030Z"
   },
   {
    "duration": 60,
    "start_time": "2021-11-24T15:20:46.053Z"
   },
   {
    "duration": 59,
    "start_time": "2021-11-24T15:20:46.115Z"
   },
   {
    "duration": 53,
    "start_time": "2021-11-24T15:20:46.176Z"
   },
   {
    "duration": 9,
    "start_time": "2021-11-24T15:20:46.231Z"
   },
   {
    "duration": 10,
    "start_time": "2021-11-24T15:20:46.242Z"
   },
   {
    "duration": 50,
    "start_time": "2021-11-24T15:20:46.254Z"
   },
   {
    "duration": 27,
    "start_time": "2021-11-24T15:20:46.306Z"
   },
   {
    "duration": 22,
    "start_time": "2021-11-24T15:20:46.334Z"
   },
   {
    "duration": 30,
    "start_time": "2021-11-24T15:20:46.358Z"
   },
   {
    "duration": 7,
    "start_time": "2021-11-24T15:20:46.389Z"
   },
   {
    "duration": 43,
    "start_time": "2021-11-24T15:20:46.397Z"
   },
   {
    "duration": 23,
    "start_time": "2021-11-24T15:20:46.441Z"
   },
   {
    "duration": 31,
    "start_time": "2021-11-24T15:20:46.466Z"
   },
   {
    "duration": 30,
    "start_time": "2021-11-24T15:20:46.499Z"
   },
   {
    "duration": 45,
    "start_time": "2021-11-24T15:20:46.531Z"
   },
   {
    "duration": 12,
    "start_time": "2021-11-24T15:20:46.577Z"
   },
   {
    "duration": 83,
    "start_time": "2021-11-24T15:20:46.591Z"
   },
   {
    "duration": 9,
    "start_time": "2021-11-24T15:20:46.675Z"
   },
   {
    "duration": 28,
    "start_time": "2021-11-24T15:20:46.686Z"
   },
   {
    "duration": 19,
    "start_time": "2021-11-24T15:20:46.715Z"
   },
   {
    "duration": 39,
    "start_time": "2021-11-24T15:20:46.735Z"
   },
   {
    "duration": 20,
    "start_time": "2021-11-24T15:20:46.775Z"
   },
   {
    "duration": 28,
    "start_time": "2021-11-24T15:20:46.796Z"
   },
   {
    "duration": 22,
    "start_time": "2021-11-24T15:20:46.825Z"
   },
   {
    "duration": 26,
    "start_time": "2021-11-24T15:20:46.849Z"
   },
   {
    "duration": 14,
    "start_time": "2021-11-24T15:20:46.877Z"
   },
   {
    "duration": 16,
    "start_time": "2021-11-24T15:20:46.893Z"
   },
   {
    "duration": 21,
    "start_time": "2021-11-24T15:20:46.911Z"
   },
   {
    "duration": 48,
    "start_time": "2021-11-24T15:21:27.147Z"
   },
   {
    "duration": 51,
    "start_time": "2021-11-24T15:21:40.601Z"
   },
   {
    "duration": 4,
    "start_time": "2021-11-24T15:21:52.139Z"
   },
   {
    "duration": 48,
    "start_time": "2021-11-24T15:22:02.335Z"
   },
   {
    "duration": 49,
    "start_time": "2021-11-24T15:22:14.373Z"
   },
   {
    "duration": 2,
    "start_time": "2021-11-24T15:22:47.589Z"
   },
   {
    "duration": 132,
    "start_time": "2021-11-24T15:22:47.593Z"
   },
   {
    "duration": 9,
    "start_time": "2021-11-24T15:22:47.727Z"
   },
   {
    "duration": 25,
    "start_time": "2021-11-24T15:22:47.738Z"
   },
   {
    "duration": 4,
    "start_time": "2021-11-24T15:22:47.764Z"
   },
   {
    "duration": 23,
    "start_time": "2021-11-24T15:22:47.769Z"
   },
   {
    "duration": 3,
    "start_time": "2021-11-24T15:22:47.794Z"
   },
   {
    "duration": 22,
    "start_time": "2021-11-24T15:22:47.798Z"
   },
   {
    "duration": 14,
    "start_time": "2021-11-24T15:22:47.822Z"
   },
   {
    "duration": 19,
    "start_time": "2021-11-24T15:22:47.838Z"
   },
   {
    "duration": 73,
    "start_time": "2021-11-24T15:22:47.859Z"
   },
   {
    "duration": 64,
    "start_time": "2021-11-24T15:22:47.934Z"
   },
   {
    "duration": 42,
    "start_time": "2021-11-24T15:22:47.999Z"
   },
   {
    "duration": 7,
    "start_time": "2021-11-24T15:22:48.043Z"
   },
   {
    "duration": 2,
    "start_time": "2021-11-24T15:22:48.052Z"
   },
   {
    "duration": 15,
    "start_time": "2021-11-24T15:22:48.056Z"
   },
   {
    "duration": 21,
    "start_time": "2021-11-24T15:22:48.073Z"
   },
   {
    "duration": 10,
    "start_time": "2021-11-24T15:22:48.095Z"
   },
   {
    "duration": 9,
    "start_time": "2021-11-24T15:22:48.106Z"
   },
   {
    "duration": 3,
    "start_time": "2021-11-24T15:22:48.116Z"
   },
   {
    "duration": 18,
    "start_time": "2021-11-24T15:22:48.121Z"
   },
   {
    "duration": 11,
    "start_time": "2021-11-24T15:22:48.140Z"
   },
   {
    "duration": 42,
    "start_time": "2021-11-24T15:22:48.153Z"
   },
   {
    "duration": 11,
    "start_time": "2021-11-24T15:22:48.196Z"
   },
   {
    "duration": 13,
    "start_time": "2021-11-24T15:22:48.209Z"
   },
   {
    "duration": 11,
    "start_time": "2021-11-24T15:22:48.224Z"
   },
   {
    "duration": 84,
    "start_time": "2021-11-24T15:22:48.237Z"
   },
   {
    "duration": 10,
    "start_time": "2021-11-24T15:22:48.322Z"
   },
   {
    "duration": 9,
    "start_time": "2021-11-24T15:22:48.333Z"
   },
   {
    "duration": 5,
    "start_time": "2021-11-24T15:22:48.343Z"
   },
   {
    "duration": 39,
    "start_time": "2021-11-24T15:22:48.349Z"
   },
   {
    "duration": 14,
    "start_time": "2021-11-24T15:22:48.389Z"
   },
   {
    "duration": 18,
    "start_time": "2021-11-24T15:22:48.405Z"
   },
   {
    "duration": 14,
    "start_time": "2021-11-24T15:22:48.425Z"
   },
   {
    "duration": 8,
    "start_time": "2021-11-24T15:22:48.441Z"
   },
   {
    "duration": 7,
    "start_time": "2021-11-24T15:22:48.451Z"
   },
   {
    "duration": 32,
    "start_time": "2021-11-24T15:22:48.460Z"
   },
   {
    "duration": 5,
    "start_time": "2021-11-24T15:22:48.493Z"
   },
   {
    "duration": 294,
    "start_time": "2021-11-24T15:24:00.169Z"
   },
   {
    "duration": 290,
    "start_time": "2021-11-24T15:24:08.822Z"
   },
   {
    "duration": 2,
    "start_time": "2021-11-24T15:24:11.788Z"
   },
   {
    "duration": 127,
    "start_time": "2021-11-24T15:24:11.796Z"
   },
   {
    "duration": 9,
    "start_time": "2021-11-24T15:24:11.925Z"
   },
   {
    "duration": 27,
    "start_time": "2021-11-24T15:24:11.936Z"
   },
   {
    "duration": 4,
    "start_time": "2021-11-24T15:24:11.965Z"
   },
   {
    "duration": 25,
    "start_time": "2021-11-24T15:24:11.970Z"
   },
   {
    "duration": 3,
    "start_time": "2021-11-24T15:24:11.997Z"
   },
   {
    "duration": 26,
    "start_time": "2021-11-24T15:24:12.002Z"
   },
   {
    "duration": 16,
    "start_time": "2021-11-24T15:24:12.030Z"
   },
   {
    "duration": 41,
    "start_time": "2021-11-24T15:24:12.049Z"
   },
   {
    "duration": 51,
    "start_time": "2021-11-24T15:24:12.092Z"
   },
   {
    "duration": 68,
    "start_time": "2021-11-24T15:24:12.144Z"
   },
   {
    "duration": 46,
    "start_time": "2021-11-24T15:24:12.213Z"
   },
   {
    "duration": 294,
    "start_time": "2021-11-24T15:24:12.261Z"
   },
   {
    "duration": 100,
    "start_time": "2021-11-24T15:24:12.456Z"
   },
   {
    "duration": 97,
    "start_time": "2021-11-24T15:24:12.460Z"
   },
   {
    "duration": 97,
    "start_time": "2021-11-24T15:24:12.461Z"
   },
   {
    "duration": -7,
    "start_time": "2021-11-24T15:24:12.566Z"
   },
   {
    "duration": -26,
    "start_time": "2021-11-24T15:24:12.586Z"
   },
   {
    "duration": -27,
    "start_time": "2021-11-24T15:24:12.588Z"
   },
   {
    "duration": -28,
    "start_time": "2021-11-24T15:24:12.590Z"
   },
   {
    "duration": -29,
    "start_time": "2021-11-24T15:24:12.591Z"
   },
   {
    "duration": -30,
    "start_time": "2021-11-24T15:24:12.593Z"
   },
   {
    "duration": -30,
    "start_time": "2021-11-24T15:24:12.594Z"
   },
   {
    "duration": -31,
    "start_time": "2021-11-24T15:24:12.596Z"
   },
   {
    "duration": -32,
    "start_time": "2021-11-24T15:24:12.597Z"
   },
   {
    "duration": -32,
    "start_time": "2021-11-24T15:24:12.598Z"
   },
   {
    "duration": -33,
    "start_time": "2021-11-24T15:24:12.600Z"
   },
   {
    "duration": -33,
    "start_time": "2021-11-24T15:24:12.601Z"
   },
   {
    "duration": -35,
    "start_time": "2021-11-24T15:24:12.603Z"
   },
   {
    "duration": -35,
    "start_time": "2021-11-24T15:24:12.604Z"
   },
   {
    "duration": -35,
    "start_time": "2021-11-24T15:24:12.605Z"
   },
   {
    "duration": -38,
    "start_time": "2021-11-24T15:24:12.609Z"
   },
   {
    "duration": -39,
    "start_time": "2021-11-24T15:24:12.611Z"
   },
   {
    "duration": -40,
    "start_time": "2021-11-24T15:24:12.612Z"
   },
   {
    "duration": -111,
    "start_time": "2021-11-24T15:24:12.684Z"
   },
   {
    "duration": -111,
    "start_time": "2021-11-24T15:24:12.685Z"
   },
   {
    "duration": -113,
    "start_time": "2021-11-24T15:24:12.689Z"
   },
   {
    "duration": 265,
    "start_time": "2021-11-24T15:31:33.266Z"
   },
   {
    "duration": 275,
    "start_time": "2021-11-24T15:35:03.841Z"
   },
   {
    "duration": 3,
    "start_time": "2021-11-24T15:35:20.627Z"
   },
   {
    "duration": 133,
    "start_time": "2021-11-24T15:35:20.631Z"
   },
   {
    "duration": 9,
    "start_time": "2021-11-24T15:35:20.766Z"
   },
   {
    "duration": 28,
    "start_time": "2021-11-24T15:35:20.777Z"
   },
   {
    "duration": 6,
    "start_time": "2021-11-24T15:35:20.807Z"
   },
   {
    "duration": 13,
    "start_time": "2021-11-24T15:35:20.814Z"
   },
   {
    "duration": 4,
    "start_time": "2021-11-24T15:35:20.829Z"
   },
   {
    "duration": 26,
    "start_time": "2021-11-24T15:35:20.834Z"
   },
   {
    "duration": 40,
    "start_time": "2021-11-24T15:35:20.862Z"
   },
   {
    "duration": 22,
    "start_time": "2021-11-24T15:35:20.904Z"
   },
   {
    "duration": 65,
    "start_time": "2021-11-24T15:35:20.928Z"
   },
   {
    "duration": 59,
    "start_time": "2021-11-24T15:35:20.995Z"
   },
   {
    "duration": 57,
    "start_time": "2021-11-24T15:35:21.056Z"
   },
   {
    "duration": 352,
    "start_time": "2021-11-24T15:35:21.115Z"
   },
   {
    "duration": 16,
    "start_time": "2021-11-24T15:35:21.453Z"
   },
   {
    "duration": 15,
    "start_time": "2021-11-24T15:35:21.455Z"
   },
   {
    "duration": 15,
    "start_time": "2021-11-24T15:35:21.456Z"
   },
   {
    "duration": 14,
    "start_time": "2021-11-24T15:35:21.458Z"
   },
   {
    "duration": -88,
    "start_time": "2021-11-24T15:35:21.561Z"
   },
   {
    "duration": -114,
    "start_time": "2021-11-24T15:35:21.588Z"
   },
   {
    "duration": -114,
    "start_time": "2021-11-24T15:35:21.589Z"
   },
   {
    "duration": -115,
    "start_time": "2021-11-24T15:35:21.591Z"
   },
   {
    "duration": -115,
    "start_time": "2021-11-24T15:35:21.592Z"
   },
   {
    "duration": -116,
    "start_time": "2021-11-24T15:35:21.594Z"
   },
   {
    "duration": -116,
    "start_time": "2021-11-24T15:35:21.595Z"
   },
   {
    "duration": -116,
    "start_time": "2021-11-24T15:35:21.596Z"
   },
   {
    "duration": -117,
    "start_time": "2021-11-24T15:35:21.598Z"
   },
   {
    "duration": -118,
    "start_time": "2021-11-24T15:35:21.600Z"
   },
   {
    "duration": -118,
    "start_time": "2021-11-24T15:35:21.601Z"
   },
   {
    "duration": -119,
    "start_time": "2021-11-24T15:35:21.602Z"
   },
   {
    "duration": -119,
    "start_time": "2021-11-24T15:35:21.603Z"
   },
   {
    "duration": -119,
    "start_time": "2021-11-24T15:35:21.604Z"
   },
   {
    "duration": -119,
    "start_time": "2021-11-24T15:35:21.605Z"
   },
   {
    "duration": -120,
    "start_time": "2021-11-24T15:35:21.607Z"
   },
   {
    "duration": -120,
    "start_time": "2021-11-24T15:35:21.608Z"
   },
   {
    "duration": -120,
    "start_time": "2021-11-24T15:35:21.609Z"
   },
   {
    "duration": -123,
    "start_time": "2021-11-24T15:35:21.613Z"
   },
   {
    "duration": -123,
    "start_time": "2021-11-24T15:35:21.614Z"
   },
   {
    "duration": 302,
    "start_time": "2021-11-24T15:37:16.147Z"
   },
   {
    "duration": 9,
    "start_time": "2021-11-24T15:37:49.963Z"
   },
   {
    "duration": 46,
    "start_time": "2021-11-24T15:40:24.733Z"
   },
   {
    "duration": 47,
    "start_time": "2021-11-24T15:40:37.942Z"
   },
   {
    "duration": 47,
    "start_time": "2021-11-24T15:41:29.082Z"
   },
   {
    "duration": 4,
    "start_time": "2021-11-24T15:41:48.886Z"
   },
   {
    "duration": 110,
    "start_time": "2021-11-24T15:42:09.199Z"
   },
   {
    "duration": 46,
    "start_time": "2021-11-24T15:42:13.753Z"
   },
   {
    "duration": 46,
    "start_time": "2021-11-24T15:42:23.959Z"
   },
   {
    "duration": 46,
    "start_time": "2021-11-24T15:42:32.837Z"
   },
   {
    "duration": 2,
    "start_time": "2021-11-24T15:43:18.135Z"
   },
   {
    "duration": 137,
    "start_time": "2021-11-24T15:43:18.139Z"
   },
   {
    "duration": 11,
    "start_time": "2021-11-24T15:43:18.278Z"
   },
   {
    "duration": 36,
    "start_time": "2021-11-24T15:43:18.291Z"
   },
   {
    "duration": 4,
    "start_time": "2021-11-24T15:43:18.329Z"
   },
   {
    "duration": 12,
    "start_time": "2021-11-24T15:43:18.335Z"
   },
   {
    "duration": 4,
    "start_time": "2021-11-24T15:43:18.348Z"
   },
   {
    "duration": 46,
    "start_time": "2021-11-24T15:43:18.354Z"
   },
   {
    "duration": 17,
    "start_time": "2021-11-24T15:43:18.402Z"
   },
   {
    "duration": 21,
    "start_time": "2021-11-24T15:43:18.421Z"
   },
   {
    "duration": 75,
    "start_time": "2021-11-24T15:43:18.444Z"
   },
   {
    "duration": 74,
    "start_time": "2021-11-24T15:43:18.520Z"
   },
   {
    "duration": 50,
    "start_time": "2021-11-24T15:43:18.596Z"
   },
   {
    "duration": 10,
    "start_time": "2021-11-24T15:43:18.648Z"
   },
   {
    "duration": 4,
    "start_time": "2021-11-24T15:43:18.660Z"
   },
   {
    "duration": 33,
    "start_time": "2021-11-24T15:43:18.665Z"
   },
   {
    "duration": 10,
    "start_time": "2021-11-24T15:43:18.700Z"
   },
   {
    "duration": 12,
    "start_time": "2021-11-24T15:43:18.712Z"
   },
   {
    "duration": 10,
    "start_time": "2021-11-24T15:43:18.726Z"
   },
   {
    "duration": 6,
    "start_time": "2021-11-24T15:43:18.738Z"
   },
   {
    "duration": 54,
    "start_time": "2021-11-24T15:43:18.745Z"
   },
   {
    "duration": 12,
    "start_time": "2021-11-24T15:43:18.801Z"
   },
   {
    "duration": 13,
    "start_time": "2021-11-24T15:43:18.815Z"
   },
   {
    "duration": 12,
    "start_time": "2021-11-24T15:43:18.829Z"
   },
   {
    "duration": 15,
    "start_time": "2021-11-24T15:43:18.843Z"
   },
   {
    "duration": 39,
    "start_time": "2021-11-24T15:43:18.859Z"
   },
   {
    "duration": 63,
    "start_time": "2021-11-24T15:43:18.901Z"
   },
   {
    "duration": 28,
    "start_time": "2021-11-24T15:43:18.966Z"
   },
   {
    "duration": 9,
    "start_time": "2021-11-24T15:43:18.996Z"
   },
   {
    "duration": 13,
    "start_time": "2021-11-24T15:43:19.007Z"
   },
   {
    "duration": 31,
    "start_time": "2021-11-24T15:43:19.021Z"
   },
   {
    "duration": 15,
    "start_time": "2021-11-24T15:43:19.054Z"
   },
   {
    "duration": 33,
    "start_time": "2021-11-24T15:43:19.071Z"
   },
   {
    "duration": 15,
    "start_time": "2021-11-24T15:43:19.106Z"
   },
   {
    "duration": 7,
    "start_time": "2021-11-24T15:43:19.123Z"
   },
   {
    "duration": 24,
    "start_time": "2021-11-24T15:43:19.132Z"
   },
   {
    "duration": 18,
    "start_time": "2021-11-24T15:43:19.158Z"
   },
   {
    "duration": 23,
    "start_time": "2021-11-24T15:43:19.177Z"
   },
   {
    "duration": 74,
    "start_time": "2021-11-24T15:44:17.807Z"
   },
   {
    "duration": 83,
    "start_time": "2021-11-24T15:44:34.528Z"
   },
   {
    "duration": 77,
    "start_time": "2021-11-24T15:45:14.151Z"
   },
   {
    "duration": 48,
    "start_time": "2021-11-24T15:55:38.442Z"
   },
   {
    "duration": 87,
    "start_time": "2021-11-24T15:55:46.874Z"
   },
   {
    "duration": 46,
    "start_time": "2021-11-24T15:55:53.157Z"
   },
   {
    "duration": 46,
    "start_time": "2021-11-24T15:56:19.011Z"
   },
   {
    "duration": 44,
    "start_time": "2021-11-24T15:56:39.752Z"
   },
   {
    "duration": 45,
    "start_time": "2021-11-24T15:57:11.581Z"
   },
   {
    "duration": 3,
    "start_time": "2021-11-24T15:57:17.132Z"
   },
   {
    "duration": 121,
    "start_time": "2021-11-24T15:57:17.153Z"
   },
   {
    "duration": 19,
    "start_time": "2021-11-24T15:57:17.276Z"
   },
   {
    "duration": 55,
    "start_time": "2021-11-24T15:57:17.297Z"
   },
   {
    "duration": 72,
    "start_time": "2021-11-24T15:57:17.353Z"
   },
   {
    "duration": 26,
    "start_time": "2021-11-24T15:57:17.427Z"
   },
   {
    "duration": 21,
    "start_time": "2021-11-24T15:57:17.454Z"
   },
   {
    "duration": 39,
    "start_time": "2021-11-24T15:57:17.477Z"
   },
   {
    "duration": 25,
    "start_time": "2021-11-24T15:57:17.518Z"
   },
   {
    "duration": 30,
    "start_time": "2021-11-24T15:57:17.545Z"
   },
   {
    "duration": 73,
    "start_time": "2021-11-24T15:57:17.576Z"
   },
   {
    "duration": 53,
    "start_time": "2021-11-24T15:57:17.651Z"
   },
   {
    "duration": 46,
    "start_time": "2021-11-24T15:57:17.705Z"
   },
   {
    "duration": 10,
    "start_time": "2021-11-24T15:57:17.752Z"
   },
   {
    "duration": 3,
    "start_time": "2021-11-24T15:57:17.763Z"
   },
   {
    "duration": 25,
    "start_time": "2021-11-24T15:57:17.767Z"
   },
   {
    "duration": 13,
    "start_time": "2021-11-24T15:57:17.793Z"
   },
   {
    "duration": 9,
    "start_time": "2021-11-24T15:57:17.808Z"
   },
   {
    "duration": 11,
    "start_time": "2021-11-24T15:57:17.818Z"
   },
   {
    "duration": 3,
    "start_time": "2021-11-24T15:57:17.830Z"
   },
   {
    "duration": 22,
    "start_time": "2021-11-24T15:57:17.834Z"
   },
   {
    "duration": 33,
    "start_time": "2021-11-24T15:57:17.858Z"
   },
   {
    "duration": 13,
    "start_time": "2021-11-24T15:57:17.893Z"
   },
   {
    "duration": 12,
    "start_time": "2021-11-24T15:57:17.907Z"
   },
   {
    "duration": 14,
    "start_time": "2021-11-24T15:57:17.921Z"
   },
   {
    "duration": 13,
    "start_time": "2021-11-24T15:57:17.936Z"
   },
   {
    "duration": 90,
    "start_time": "2021-11-24T15:57:17.951Z"
   },
   {
    "duration": 10,
    "start_time": "2021-11-24T15:57:18.044Z"
   },
   {
    "duration": 8,
    "start_time": "2021-11-24T15:57:18.056Z"
   },
   {
    "duration": 3,
    "start_time": "2021-11-24T15:57:18.066Z"
   },
   {
    "duration": 21,
    "start_time": "2021-11-24T15:57:18.087Z"
   },
   {
    "duration": 15,
    "start_time": "2021-11-24T15:57:18.110Z"
   },
   {
    "duration": 19,
    "start_time": "2021-11-24T15:57:18.126Z"
   },
   {
    "duration": 43,
    "start_time": "2021-11-24T15:57:18.147Z"
   },
   {
    "duration": 8,
    "start_time": "2021-11-24T15:57:18.191Z"
   },
   {
    "duration": 4,
    "start_time": "2021-11-24T15:57:18.200Z"
   },
   {
    "duration": 7,
    "start_time": "2021-11-24T15:57:18.206Z"
   },
   {
    "duration": 4,
    "start_time": "2021-11-24T15:57:18.214Z"
   },
   {
    "duration": 78,
    "start_time": "2021-11-24T15:57:51.136Z"
   },
   {
    "duration": 48,
    "start_time": "2021-11-24T15:58:01.558Z"
   },
   {
    "duration": 43,
    "start_time": "2021-11-24T15:58:12.707Z"
   },
   {
    "duration": 2,
    "start_time": "2021-11-24T15:58:16.505Z"
   },
   {
    "duration": 161,
    "start_time": "2021-11-24T15:58:16.509Z"
   },
   {
    "duration": 14,
    "start_time": "2021-11-24T15:58:16.673Z"
   },
   {
    "duration": 25,
    "start_time": "2021-11-24T15:58:16.689Z"
   },
   {
    "duration": 3,
    "start_time": "2021-11-24T15:58:16.716Z"
   },
   {
    "duration": 11,
    "start_time": "2021-11-24T15:58:16.721Z"
   },
   {
    "duration": 4,
    "start_time": "2021-11-24T15:58:16.734Z"
   },
   {
    "duration": 24,
    "start_time": "2021-11-24T15:58:16.739Z"
   },
   {
    "duration": 36,
    "start_time": "2021-11-24T15:58:16.766Z"
   },
   {
    "duration": 22,
    "start_time": "2021-11-24T15:58:16.804Z"
   },
   {
    "duration": 67,
    "start_time": "2021-11-24T15:58:16.828Z"
   },
   {
    "duration": 53,
    "start_time": "2021-11-24T15:58:16.897Z"
   },
   {
    "duration": 60,
    "start_time": "2021-11-24T15:58:16.951Z"
   },
   {
    "duration": 14,
    "start_time": "2021-11-24T15:58:17.012Z"
   },
   {
    "duration": 9,
    "start_time": "2021-11-24T15:58:17.028Z"
   },
   {
    "duration": 38,
    "start_time": "2021-11-24T15:58:17.039Z"
   },
   {
    "duration": 18,
    "start_time": "2021-11-24T15:58:17.079Z"
   },
   {
    "duration": 13,
    "start_time": "2021-11-24T15:58:17.098Z"
   },
   {
    "duration": 18,
    "start_time": "2021-11-24T15:58:17.113Z"
   },
   {
    "duration": 10,
    "start_time": "2021-11-24T15:58:17.133Z"
   },
   {
    "duration": 35,
    "start_time": "2021-11-24T15:58:17.145Z"
   },
   {
    "duration": 12,
    "start_time": "2021-11-24T15:58:17.182Z"
   },
   {
    "duration": 26,
    "start_time": "2021-11-24T15:58:17.195Z"
   },
   {
    "duration": 14,
    "start_time": "2021-11-24T15:58:17.223Z"
   },
   {
    "duration": 20,
    "start_time": "2021-11-24T15:58:17.238Z"
   },
   {
    "duration": 14,
    "start_time": "2021-11-24T15:58:17.259Z"
   },
   {
    "duration": 74,
    "start_time": "2021-11-24T15:58:17.276Z"
   },
   {
    "duration": 12,
    "start_time": "2021-11-24T15:58:17.352Z"
   },
   {
    "duration": 10,
    "start_time": "2021-11-24T15:58:17.365Z"
   },
   {
    "duration": 11,
    "start_time": "2021-11-24T15:58:17.377Z"
   },
   {
    "duration": 25,
    "start_time": "2021-11-24T15:58:17.390Z"
   },
   {
    "duration": 16,
    "start_time": "2021-11-24T15:58:17.416Z"
   },
   {
    "duration": 21,
    "start_time": "2021-11-24T15:58:17.434Z"
   },
   {
    "duration": 45,
    "start_time": "2021-11-24T15:58:17.457Z"
   },
   {
    "duration": 9,
    "start_time": "2021-11-24T15:58:17.504Z"
   },
   {
    "duration": 4,
    "start_time": "2021-11-24T15:58:17.514Z"
   },
   {
    "duration": 9,
    "start_time": "2021-11-24T15:58:17.519Z"
   },
   {
    "duration": 7,
    "start_time": "2021-11-24T15:58:17.530Z"
   },
   {
    "duration": 50,
    "start_time": "2021-11-24T15:58:40.456Z"
   },
   {
    "duration": 44,
    "start_time": "2021-11-24T15:58:55.204Z"
   },
   {
    "duration": 45,
    "start_time": "2021-11-24T15:59:01.793Z"
   },
   {
    "duration": 45,
    "start_time": "2021-11-24T15:59:05.210Z"
   },
   {
    "duration": 2,
    "start_time": "2021-11-24T15:59:09.277Z"
   },
   {
    "duration": 122,
    "start_time": "2021-11-24T15:59:09.281Z"
   },
   {
    "duration": 9,
    "start_time": "2021-11-24T15:59:09.405Z"
   },
   {
    "duration": 33,
    "start_time": "2021-11-24T15:59:09.416Z"
   },
   {
    "duration": 3,
    "start_time": "2021-11-24T15:59:09.451Z"
   },
   {
    "duration": 15,
    "start_time": "2021-11-24T15:59:09.456Z"
   },
   {
    "duration": 3,
    "start_time": "2021-11-24T15:59:09.473Z"
   },
   {
    "duration": 44,
    "start_time": "2021-11-24T15:59:09.478Z"
   },
   {
    "duration": 23,
    "start_time": "2021-11-24T15:59:09.525Z"
   },
   {
    "duration": 44,
    "start_time": "2021-11-24T15:59:09.551Z"
   },
   {
    "duration": 56,
    "start_time": "2021-11-24T15:59:09.597Z"
   },
   {
    "duration": 69,
    "start_time": "2021-11-24T15:59:09.654Z"
   },
   {
    "duration": 44,
    "start_time": "2021-11-24T15:59:09.725Z"
   },
   {
    "duration": 17,
    "start_time": "2021-11-24T15:59:09.771Z"
   },
   {
    "duration": 3,
    "start_time": "2021-11-24T15:59:09.790Z"
   },
   {
    "duration": 12,
    "start_time": "2021-11-24T15:59:09.795Z"
   },
   {
    "duration": 9,
    "start_time": "2021-11-24T15:59:09.809Z"
   },
   {
    "duration": 10,
    "start_time": "2021-11-24T15:59:09.819Z"
   },
   {
    "duration": 10,
    "start_time": "2021-11-24T15:59:09.830Z"
   },
   {
    "duration": 3,
    "start_time": "2021-11-24T15:59:09.841Z"
   },
   {
    "duration": 51,
    "start_time": "2021-11-24T15:59:09.846Z"
   },
   {
    "duration": 13,
    "start_time": "2021-11-24T15:59:09.899Z"
   },
   {
    "duration": 13,
    "start_time": "2021-11-24T15:59:09.913Z"
   },
   {
    "duration": 12,
    "start_time": "2021-11-24T15:59:09.928Z"
   },
   {
    "duration": 14,
    "start_time": "2021-11-24T15:59:09.941Z"
   },
   {
    "duration": 42,
    "start_time": "2021-11-24T15:59:09.956Z"
   },
   {
    "duration": 63,
    "start_time": "2021-11-24T15:59:10.001Z"
   },
   {
    "duration": 24,
    "start_time": "2021-11-24T15:59:10.065Z"
   },
   {
    "duration": 10,
    "start_time": "2021-11-24T15:59:10.090Z"
   },
   {
    "duration": 4,
    "start_time": "2021-11-24T15:59:10.101Z"
   },
   {
    "duration": 27,
    "start_time": "2021-11-24T15:59:10.106Z"
   },
   {
    "duration": 15,
    "start_time": "2021-11-24T15:59:10.135Z"
   },
   {
    "duration": 46,
    "start_time": "2021-11-24T15:59:10.151Z"
   },
   {
    "duration": 15,
    "start_time": "2021-11-24T15:59:10.199Z"
   },
   {
    "duration": 8,
    "start_time": "2021-11-24T15:59:10.215Z"
   },
   {
    "duration": 4,
    "start_time": "2021-11-24T15:59:10.224Z"
   },
   {
    "duration": 7,
    "start_time": "2021-11-24T15:59:10.230Z"
   },
   {
    "duration": 4,
    "start_time": "2021-11-24T15:59:10.238Z"
   },
   {
    "duration": 46,
    "start_time": "2021-11-24T15:59:51.076Z"
   },
   {
    "duration": 2,
    "start_time": "2021-11-24T15:59:57.479Z"
   },
   {
    "duration": 125,
    "start_time": "2021-11-24T15:59:57.483Z"
   },
   {
    "duration": 10,
    "start_time": "2021-11-24T15:59:57.610Z"
   },
   {
    "duration": 25,
    "start_time": "2021-11-24T15:59:57.622Z"
   },
   {
    "duration": 4,
    "start_time": "2021-11-24T15:59:57.649Z"
   },
   {
    "duration": 34,
    "start_time": "2021-11-24T15:59:57.654Z"
   },
   {
    "duration": 4,
    "start_time": "2021-11-24T15:59:57.689Z"
   },
   {
    "duration": 26,
    "start_time": "2021-11-24T15:59:57.695Z"
   },
   {
    "duration": 15,
    "start_time": "2021-11-24T15:59:57.724Z"
   },
   {
    "duration": 27,
    "start_time": "2021-11-24T15:59:57.741Z"
   },
   {
    "duration": 67,
    "start_time": "2021-11-24T15:59:57.770Z"
   },
   {
    "duration": 76,
    "start_time": "2021-11-24T15:59:57.838Z"
   },
   {
    "duration": 45,
    "start_time": "2021-11-24T15:59:57.915Z"
   },
   {
    "duration": 8,
    "start_time": "2021-11-24T15:59:57.961Z"
   },
   {
    "duration": 18,
    "start_time": "2021-11-24T15:59:57.970Z"
   },
   {
    "duration": 13,
    "start_time": "2021-11-24T15:59:57.990Z"
   },
   {
    "duration": 9,
    "start_time": "2021-11-24T15:59:58.005Z"
   },
   {
    "duration": 10,
    "start_time": "2021-11-24T15:59:58.016Z"
   },
   {
    "duration": 11,
    "start_time": "2021-11-24T15:59:58.027Z"
   },
   {
    "duration": 16,
    "start_time": "2021-11-24T15:59:58.039Z"
   },
   {
    "duration": 31,
    "start_time": "2021-11-24T15:59:58.057Z"
   },
   {
    "duration": 12,
    "start_time": "2021-11-24T15:59:58.090Z"
   },
   {
    "duration": 14,
    "start_time": "2021-11-24T15:59:58.104Z"
   },
   {
    "duration": 13,
    "start_time": "2021-11-24T15:59:58.119Z"
   },
   {
    "duration": 16,
    "start_time": "2021-11-24T15:59:58.134Z"
   },
   {
    "duration": 45,
    "start_time": "2021-11-24T15:59:58.152Z"
   },
   {
    "duration": 62,
    "start_time": "2021-11-24T15:59:58.201Z"
   },
   {
    "duration": 27,
    "start_time": "2021-11-24T15:59:58.265Z"
   },
   {
    "duration": 9,
    "start_time": "2021-11-24T15:59:58.294Z"
   },
   {
    "duration": 3,
    "start_time": "2021-11-24T15:59:58.304Z"
   },
   {
    "duration": 26,
    "start_time": "2021-11-24T15:59:58.309Z"
   },
   {
    "duration": 14,
    "start_time": "2021-11-24T15:59:58.336Z"
   },
   {
    "duration": 37,
    "start_time": "2021-11-24T15:59:58.351Z"
   },
   {
    "duration": 15,
    "start_time": "2021-11-24T15:59:58.390Z"
   },
   {
    "duration": 38,
    "start_time": "2021-11-24T15:59:58.407Z"
   },
   {
    "duration": 11,
    "start_time": "2021-11-24T15:59:58.446Z"
   },
   {
    "duration": 27,
    "start_time": "2021-11-24T15:59:58.458Z"
   },
   {
    "duration": 6,
    "start_time": "2021-11-24T15:59:58.486Z"
   },
   {
    "duration": 48,
    "start_time": "2021-11-24T16:00:35.411Z"
   },
   {
    "duration": 48,
    "start_time": "2021-11-24T16:00:48.016Z"
   },
   {
    "duration": 47,
    "start_time": "2021-11-24T16:00:56.410Z"
   },
   {
    "duration": 2,
    "start_time": "2021-11-24T16:01:01.702Z"
   },
   {
    "duration": 153,
    "start_time": "2021-11-24T16:01:01.706Z"
   },
   {
    "duration": 10,
    "start_time": "2021-11-24T16:01:01.861Z"
   },
   {
    "duration": 28,
    "start_time": "2021-11-24T16:01:01.873Z"
   },
   {
    "duration": 13,
    "start_time": "2021-11-24T16:01:01.903Z"
   },
   {
    "duration": 28,
    "start_time": "2021-11-24T16:01:01.917Z"
   },
   {
    "duration": 9,
    "start_time": "2021-11-24T16:01:01.946Z"
   },
   {
    "duration": 35,
    "start_time": "2021-11-24T16:01:01.956Z"
   },
   {
    "duration": 35,
    "start_time": "2021-11-24T16:01:01.993Z"
   },
   {
    "duration": 28,
    "start_time": "2021-11-24T16:01:02.030Z"
   },
   {
    "duration": 63,
    "start_time": "2021-11-24T16:01:02.060Z"
   },
   {
    "duration": 66,
    "start_time": "2021-11-24T16:01:02.125Z"
   },
   {
    "duration": 45,
    "start_time": "2021-11-24T16:01:02.192Z"
   },
   {
    "duration": 8,
    "start_time": "2021-11-24T16:01:02.239Z"
   },
   {
    "duration": 11,
    "start_time": "2021-11-24T16:01:02.248Z"
   },
   {
    "duration": 21,
    "start_time": "2021-11-24T16:01:02.260Z"
   },
   {
    "duration": 14,
    "start_time": "2021-11-24T16:01:02.283Z"
   },
   {
    "duration": 18,
    "start_time": "2021-11-24T16:01:02.298Z"
   },
   {
    "duration": 9,
    "start_time": "2021-11-24T16:01:02.317Z"
   },
   {
    "duration": 3,
    "start_time": "2021-11-24T16:01:02.328Z"
   },
   {
    "duration": 24,
    "start_time": "2021-11-24T16:01:02.332Z"
   },
   {
    "duration": 12,
    "start_time": "2021-11-24T16:01:02.357Z"
   },
   {
    "duration": 25,
    "start_time": "2021-11-24T16:01:02.370Z"
   },
   {
    "duration": 11,
    "start_time": "2021-11-24T16:01:02.397Z"
   },
   {
    "duration": 13,
    "start_time": "2021-11-24T16:01:02.410Z"
   },
   {
    "duration": 12,
    "start_time": "2021-11-24T16:01:02.425Z"
   },
   {
    "duration": 90,
    "start_time": "2021-11-24T16:01:02.440Z"
   },
   {
    "duration": 10,
    "start_time": "2021-11-24T16:01:02.532Z"
   },
   {
    "duration": 9,
    "start_time": "2021-11-24T16:01:02.543Z"
   },
   {
    "duration": 9,
    "start_time": "2021-11-24T16:01:02.554Z"
   },
   {
    "duration": 41,
    "start_time": "2021-11-24T16:01:02.564Z"
   },
   {
    "duration": 15,
    "start_time": "2021-11-24T16:01:02.607Z"
   },
   {
    "duration": 20,
    "start_time": "2021-11-24T16:01:02.623Z"
   },
   {
    "duration": 15,
    "start_time": "2021-11-24T16:01:02.644Z"
   },
   {
    "duration": 28,
    "start_time": "2021-11-24T16:01:02.660Z"
   },
   {
    "duration": 4,
    "start_time": "2021-11-24T16:01:02.689Z"
   },
   {
    "duration": 16,
    "start_time": "2021-11-24T16:01:02.695Z"
   },
   {
    "duration": 6,
    "start_time": "2021-11-24T16:01:02.713Z"
   },
   {
    "duration": 45,
    "start_time": "2021-11-24T16:03:14.577Z"
   },
   {
    "duration": 2,
    "start_time": "2021-11-24T16:03:30.268Z"
   },
   {
    "duration": 151,
    "start_time": "2021-11-24T16:03:30.272Z"
   },
   {
    "duration": 10,
    "start_time": "2021-11-24T16:03:30.425Z"
   },
   {
    "duration": 58,
    "start_time": "2021-11-24T16:03:30.437Z"
   },
   {
    "duration": 18,
    "start_time": "2021-11-24T16:03:30.497Z"
   },
   {
    "duration": 28,
    "start_time": "2021-11-24T16:03:30.516Z"
   },
   {
    "duration": 12,
    "start_time": "2021-11-24T16:03:30.546Z"
   },
   {
    "duration": 40,
    "start_time": "2021-11-24T16:03:30.559Z"
   },
   {
    "duration": 34,
    "start_time": "2021-11-24T16:03:30.602Z"
   },
   {
    "duration": 31,
    "start_time": "2021-11-24T16:03:30.638Z"
   },
   {
    "duration": 61,
    "start_time": "2021-11-24T16:03:30.671Z"
   },
   {
    "duration": 59,
    "start_time": "2021-11-24T16:03:30.734Z"
   },
   {
    "duration": 45,
    "start_time": "2021-11-24T16:03:30.795Z"
   },
   {
    "duration": 9,
    "start_time": "2021-11-24T16:03:30.841Z"
   },
   {
    "duration": 15,
    "start_time": "2021-11-24T16:03:30.851Z"
   },
   {
    "duration": 29,
    "start_time": "2021-11-24T16:03:30.868Z"
   },
   {
    "duration": 21,
    "start_time": "2021-11-24T16:03:30.898Z"
   },
   {
    "duration": 33,
    "start_time": "2021-11-24T16:03:30.921Z"
   },
   {
    "duration": 25,
    "start_time": "2021-11-24T16:03:30.956Z"
   },
   {
    "duration": 22,
    "start_time": "2021-11-24T16:03:30.983Z"
   },
   {
    "duration": 39,
    "start_time": "2021-11-24T16:03:31.007Z"
   },
   {
    "duration": 32,
    "start_time": "2021-11-24T16:03:31.048Z"
   },
   {
    "duration": 44,
    "start_time": "2021-11-24T16:03:31.082Z"
   },
   {
    "duration": 33,
    "start_time": "2021-11-24T16:03:31.128Z"
   },
   {
    "duration": 35,
    "start_time": "2021-11-24T16:03:31.163Z"
   },
   {
    "duration": 19,
    "start_time": "2021-11-24T16:03:31.200Z"
   },
   {
    "duration": 69,
    "start_time": "2021-11-24T16:03:31.223Z"
   },
   {
    "duration": 12,
    "start_time": "2021-11-24T16:03:31.294Z"
   },
   {
    "duration": 22,
    "start_time": "2021-11-24T16:03:31.308Z"
   },
   {
    "duration": 20,
    "start_time": "2021-11-24T16:03:31.331Z"
   },
   {
    "duration": 43,
    "start_time": "2021-11-24T16:03:31.353Z"
   },
   {
    "duration": 27,
    "start_time": "2021-11-24T16:03:31.398Z"
   },
   {
    "duration": 42,
    "start_time": "2021-11-24T16:03:31.427Z"
   },
   {
    "duration": 17,
    "start_time": "2021-11-24T16:03:31.471Z"
   },
   {
    "duration": 31,
    "start_time": "2021-11-24T16:03:31.490Z"
   },
   {
    "duration": 25,
    "start_time": "2021-11-24T16:03:31.522Z"
   },
   {
    "duration": 35,
    "start_time": "2021-11-24T16:03:31.548Z"
   },
   {
    "duration": 33,
    "start_time": "2021-11-24T16:03:31.585Z"
   },
   {
    "duration": 44,
    "start_time": "2021-11-24T16:08:08.968Z"
   },
   {
    "duration": 285,
    "start_time": "2021-11-24T16:08:46.733Z"
   },
   {
    "duration": 2,
    "start_time": "2021-11-24T16:08:50.527Z"
   },
   {
    "duration": 125,
    "start_time": "2021-11-24T16:08:50.531Z"
   },
   {
    "duration": 9,
    "start_time": "2021-11-24T16:08:50.658Z"
   },
   {
    "duration": 31,
    "start_time": "2021-11-24T16:08:50.669Z"
   },
   {
    "duration": 3,
    "start_time": "2021-11-24T16:08:50.701Z"
   },
   {
    "duration": 19,
    "start_time": "2021-11-24T16:08:50.706Z"
   },
   {
    "duration": 4,
    "start_time": "2021-11-24T16:08:50.726Z"
   },
   {
    "duration": 22,
    "start_time": "2021-11-24T16:08:50.732Z"
   },
   {
    "duration": 35,
    "start_time": "2021-11-24T16:08:50.756Z"
   },
   {
    "duration": 21,
    "start_time": "2021-11-24T16:08:50.792Z"
   },
   {
    "duration": 48,
    "start_time": "2021-11-24T16:08:50.814Z"
   },
   {
    "duration": 73,
    "start_time": "2021-11-24T16:08:50.863Z"
   },
   {
    "duration": 57,
    "start_time": "2021-11-24T16:08:50.937Z"
   },
   {
    "duration": 283,
    "start_time": "2021-11-24T16:08:50.996Z"
   },
   {
    "duration": 6,
    "start_time": "2021-11-24T16:08:51.275Z"
   },
   {
    "duration": 5,
    "start_time": "2021-11-24T16:08:51.277Z"
   },
   {
    "duration": 4,
    "start_time": "2021-11-24T16:08:51.279Z"
   },
   {
    "duration": 3,
    "start_time": "2021-11-24T16:08:51.281Z"
   },
   {
    "duration": 3,
    "start_time": "2021-11-24T16:08:51.282Z"
   },
   {
    "duration": 2,
    "start_time": "2021-11-24T16:08:51.284Z"
   },
   {
    "duration": 1,
    "start_time": "2021-11-24T16:08:51.286Z"
   },
   {
    "duration": 1,
    "start_time": "2021-11-24T16:08:51.287Z"
   },
   {
    "duration": 0,
    "start_time": "2021-11-24T16:08:51.289Z"
   },
   {
    "duration": 0,
    "start_time": "2021-11-24T16:08:51.290Z"
   },
   {
    "duration": 0,
    "start_time": "2021-11-24T16:08:51.291Z"
   },
   {
    "duration": -1,
    "start_time": "2021-11-24T16:08:51.293Z"
   },
   {
    "duration": -1,
    "start_time": "2021-11-24T16:08:51.294Z"
   },
   {
    "duration": -3,
    "start_time": "2021-11-24T16:08:51.296Z"
   },
   {
    "duration": -3,
    "start_time": "2021-11-24T16:08:51.297Z"
   },
   {
    "duration": -3,
    "start_time": "2021-11-24T16:08:51.298Z"
   },
   {
    "duration": -4,
    "start_time": "2021-11-24T16:08:51.300Z"
   },
   {
    "duration": -4,
    "start_time": "2021-11-24T16:08:51.301Z"
   },
   {
    "duration": -4,
    "start_time": "2021-11-24T16:08:51.302Z"
   },
   {
    "duration": -4,
    "start_time": "2021-11-24T16:08:51.303Z"
   },
   {
    "duration": -5,
    "start_time": "2021-11-24T16:08:51.305Z"
   },
   {
    "duration": -5,
    "start_time": "2021-11-24T16:08:51.306Z"
   },
   {
    "duration": -5,
    "start_time": "2021-11-24T16:08:51.307Z"
   },
   {
    "duration": -5,
    "start_time": "2021-11-24T16:08:51.308Z"
   },
   {
    "duration": 467,
    "start_time": "2021-11-24T16:09:13.443Z"
   },
   {
    "duration": 284,
    "start_time": "2021-11-24T16:09:23.743Z"
   },
   {
    "duration": 9,
    "start_time": "2021-11-24T16:09:33.366Z"
   },
   {
    "duration": 92,
    "start_time": "2021-11-24T16:10:28.376Z"
   },
   {
    "duration": 86,
    "start_time": "2021-11-24T16:14:22.526Z"
   },
   {
    "duration": 430,
    "start_time": "2021-11-24T18:57:23.028Z"
   },
   {
    "duration": 767,
    "start_time": "2021-11-24T18:57:29.051Z"
   },
   {
    "duration": 189,
    "start_time": "2021-11-24T18:57:29.820Z"
   },
   {
    "duration": 32,
    "start_time": "2021-11-24T18:57:30.012Z"
   },
   {
    "duration": 56,
    "start_time": "2021-11-24T18:57:30.047Z"
   },
   {
    "duration": 6,
    "start_time": "2021-11-24T18:57:30.105Z"
   },
   {
    "duration": 43,
    "start_time": "2021-11-24T18:57:30.114Z"
   },
   {
    "duration": 10,
    "start_time": "2021-11-24T18:57:30.159Z"
   },
   {
    "duration": 48,
    "start_time": "2021-11-24T18:57:30.174Z"
   },
   {
    "duration": 25,
    "start_time": "2021-11-24T18:57:30.226Z"
   },
   {
    "duration": 48,
    "start_time": "2021-11-24T18:57:30.254Z"
   },
   {
    "duration": 112,
    "start_time": "2021-11-24T18:57:30.305Z"
   },
   {
    "duration": 119,
    "start_time": "2021-11-24T18:57:30.420Z"
   },
   {
    "duration": 89,
    "start_time": "2021-11-24T18:57:30.542Z"
   },
   {
    "duration": 14,
    "start_time": "2021-11-24T18:57:30.634Z"
   },
   {
    "duration": 4,
    "start_time": "2021-11-24T18:57:30.651Z"
   },
   {
    "duration": 45,
    "start_time": "2021-11-24T18:57:30.658Z"
   },
   {
    "duration": 23,
    "start_time": "2021-11-24T18:57:30.706Z"
   },
   {
    "duration": 17,
    "start_time": "2021-11-24T18:57:30.731Z"
   },
   {
    "duration": 19,
    "start_time": "2021-11-24T18:57:30.750Z"
   },
   {
    "duration": 5,
    "start_time": "2021-11-24T18:57:30.771Z"
   },
   {
    "duration": 49,
    "start_time": "2021-11-24T18:57:30.779Z"
   },
   {
    "duration": 19,
    "start_time": "2021-11-24T18:57:30.830Z"
   },
   {
    "duration": 20,
    "start_time": "2021-11-24T18:57:30.854Z"
   },
   {
    "duration": 41,
    "start_time": "2021-11-24T18:57:30.877Z"
   },
   {
    "duration": 21,
    "start_time": "2021-11-24T18:57:30.921Z"
   },
   {
    "duration": 18,
    "start_time": "2021-11-24T18:57:30.944Z"
   },
   {
    "duration": 137,
    "start_time": "2021-11-24T18:57:30.965Z"
   },
   {
    "duration": 15,
    "start_time": "2021-11-24T18:57:31.104Z"
   },
   {
    "duration": 14,
    "start_time": "2021-11-24T18:57:31.121Z"
   },
   {
    "duration": 6,
    "start_time": "2021-11-24T18:57:31.138Z"
   },
   {
    "duration": 66,
    "start_time": "2021-11-24T18:57:31.146Z"
   },
   {
    "duration": 25,
    "start_time": "2021-11-24T18:57:31.214Z"
   },
   {
    "duration": 30,
    "start_time": "2021-11-24T18:57:31.241Z"
   },
   {
    "duration": 48,
    "start_time": "2021-11-24T18:57:31.273Z"
   },
   {
    "duration": 12,
    "start_time": "2021-11-24T18:57:31.324Z"
   },
   {
    "duration": 7,
    "start_time": "2021-11-24T18:57:31.339Z"
   },
   {
    "duration": 19,
    "start_time": "2021-11-24T18:57:31.348Z"
   },
   {
    "duration": 33,
    "start_time": "2021-11-24T18:57:31.369Z"
   },
   {
    "duration": 119,
    "start_time": "2021-11-24T18:58:51.349Z"
   },
   {
    "duration": 23,
    "start_time": "2021-11-24T18:59:23.854Z"
   },
   {
    "duration": 22,
    "start_time": "2021-11-24T18:59:32.833Z"
   },
   {
    "duration": 24,
    "start_time": "2021-11-24T19:01:00.706Z"
   },
   {
    "duration": 19,
    "start_time": "2021-11-24T19:01:04.544Z"
   },
   {
    "duration": 17,
    "start_time": "2021-11-24T19:03:11.843Z"
   },
   {
    "duration": 114,
    "start_time": "2021-11-24T19:04:24.174Z"
   },
   {
    "duration": 19,
    "start_time": "2021-11-24T19:04:30.979Z"
   },
   {
    "duration": 20,
    "start_time": "2021-11-24T19:04:34.857Z"
   },
   {
    "duration": 3,
    "start_time": "2021-11-24T19:27:06.750Z"
   },
   {
    "duration": 207,
    "start_time": "2021-11-24T19:27:06.756Z"
   },
   {
    "duration": 16,
    "start_time": "2021-11-24T19:27:06.966Z"
   },
   {
    "duration": 49,
    "start_time": "2021-11-24T19:27:06.985Z"
   },
   {
    "duration": 6,
    "start_time": "2021-11-24T19:27:07.037Z"
   },
   {
    "duration": 61,
    "start_time": "2021-11-24T19:27:07.046Z"
   },
   {
    "duration": 6,
    "start_time": "2021-11-24T19:27:07.110Z"
   },
   {
    "duration": 34,
    "start_time": "2021-11-24T19:27:07.120Z"
   },
   {
    "duration": 53,
    "start_time": "2021-11-24T19:27:07.158Z"
   },
   {
    "duration": 31,
    "start_time": "2021-11-24T19:27:07.214Z"
   },
   {
    "duration": 108,
    "start_time": "2021-11-24T19:27:07.247Z"
   },
   {
    "duration": 109,
    "start_time": "2021-11-24T19:27:07.357Z"
   },
   {
    "duration": 83,
    "start_time": "2021-11-24T19:27:07.469Z"
   },
   {
    "duration": 14,
    "start_time": "2021-11-24T19:27:07.554Z"
   },
   {
    "duration": 4,
    "start_time": "2021-11-24T19:27:07.570Z"
   },
   {
    "duration": 14,
    "start_time": "2021-11-24T19:27:07.600Z"
   },
   {
    "duration": 23,
    "start_time": "2021-11-24T19:27:07.617Z"
   },
   {
    "duration": 15,
    "start_time": "2021-11-24T19:27:07.643Z"
   },
   {
    "duration": 41,
    "start_time": "2021-11-24T19:27:07.661Z"
   },
   {
    "duration": 5,
    "start_time": "2021-11-24T19:27:07.705Z"
   },
   {
    "duration": 28,
    "start_time": "2021-11-24T19:27:07.712Z"
   },
   {
    "duration": 20,
    "start_time": "2021-11-24T19:27:07.743Z"
   },
   {
    "duration": 47,
    "start_time": "2021-11-24T19:27:07.766Z"
   },
   {
    "duration": 17,
    "start_time": "2021-11-24T19:27:07.815Z"
   },
   {
    "duration": 21,
    "start_time": "2021-11-24T19:27:07.834Z"
   },
   {
    "duration": 52,
    "start_time": "2021-11-24T19:27:07.857Z"
   },
   {
    "duration": 107,
    "start_time": "2021-11-24T19:27:07.913Z"
   },
   {
    "duration": 17,
    "start_time": "2021-11-24T19:27:08.022Z"
   },
   {
    "duration": 13,
    "start_time": "2021-11-24T19:27:08.041Z"
   },
   {
    "duration": 7,
    "start_time": "2021-11-24T19:27:08.056Z"
   },
   {
    "duration": 767,
    "start_time": "2021-11-24T19:27:08.066Z"
   },
   {
    "duration": 33,
    "start_time": "2021-11-24T19:27:08.803Z"
   },
   {
    "duration": 33,
    "start_time": "2021-11-24T19:27:08.805Z"
   },
   {
    "duration": 33,
    "start_time": "2021-11-24T19:27:08.807Z"
   },
   {
    "duration": 34,
    "start_time": "2021-11-24T19:27:08.808Z"
   },
   {
    "duration": -64,
    "start_time": "2021-11-24T19:27:08.908Z"
   },
   {
    "duration": -67,
    "start_time": "2021-11-24T19:27:08.913Z"
   },
   {
    "duration": -68,
    "start_time": "2021-11-24T19:27:08.916Z"
   },
   {
    "duration": 4,
    "start_time": "2021-11-24T19:27:50.417Z"
   },
   {
    "duration": 209,
    "start_time": "2021-11-24T19:27:50.424Z"
   },
   {
    "duration": 16,
    "start_time": "2021-11-24T19:27:50.636Z"
   },
   {
    "duration": 50,
    "start_time": "2021-11-24T19:27:50.654Z"
   },
   {
    "duration": 6,
    "start_time": "2021-11-24T19:27:50.707Z"
   },
   {
    "duration": 18,
    "start_time": "2021-11-24T19:27:50.716Z"
   },
   {
    "duration": 6,
    "start_time": "2021-11-24T19:27:50.737Z"
   },
   {
    "duration": 71,
    "start_time": "2021-11-24T19:27:50.747Z"
   },
   {
    "duration": 24,
    "start_time": "2021-11-24T19:27:50.821Z"
   },
   {
    "duration": 31,
    "start_time": "2021-11-24T19:27:50.847Z"
   },
   {
    "duration": 106,
    "start_time": "2021-11-24T19:27:50.902Z"
   },
   {
    "duration": 110,
    "start_time": "2021-11-24T19:27:51.011Z"
   },
   {
    "duration": 92,
    "start_time": "2021-11-24T19:27:51.124Z"
   },
   {
    "duration": 17,
    "start_time": "2021-11-24T19:27:51.219Z"
   },
   {
    "duration": 6,
    "start_time": "2021-11-24T19:27:51.239Z"
   },
   {
    "duration": 17,
    "start_time": "2021-11-24T19:27:51.247Z"
   },
   {
    "duration": 49,
    "start_time": "2021-11-24T19:27:51.266Z"
   },
   {
    "duration": 17,
    "start_time": "2021-11-24T19:27:51.318Z"
   },
   {
    "duration": 17,
    "start_time": "2021-11-24T19:27:51.338Z"
   },
   {
    "duration": 45,
    "start_time": "2021-11-24T19:27:51.357Z"
   },
   {
    "duration": 30,
    "start_time": "2021-11-24T19:27:51.405Z"
   },
   {
    "duration": 21,
    "start_time": "2021-11-24T19:27:51.437Z"
   },
   {
    "duration": 43,
    "start_time": "2021-11-24T19:27:51.463Z"
   },
   {
    "duration": 19,
    "start_time": "2021-11-24T19:27:51.509Z"
   },
   {
    "duration": 20,
    "start_time": "2021-11-24T19:27:51.530Z"
   },
   {
    "duration": 48,
    "start_time": "2021-11-24T19:27:51.553Z"
   },
   {
    "duration": 104,
    "start_time": "2021-11-24T19:27:51.603Z"
   },
   {
    "duration": 14,
    "start_time": "2021-11-24T19:27:51.709Z"
   },
   {
    "duration": 13,
    "start_time": "2021-11-24T19:27:51.726Z"
   },
   {
    "duration": 6,
    "start_time": "2021-11-24T19:27:51.741Z"
   },
   {
    "duration": 1128,
    "start_time": "2021-11-24T19:27:51.750Z"
   },
   {
    "duration": -134,
    "start_time": "2021-11-24T19:27:53.015Z"
   },
   {
    "duration": -140,
    "start_time": "2021-11-24T19:27:53.023Z"
   },
   {
    "duration": -141,
    "start_time": "2021-11-24T19:27:53.026Z"
   },
   {
    "duration": -142,
    "start_time": "2021-11-24T19:27:53.029Z"
   },
   {
    "duration": -144,
    "start_time": "2021-11-24T19:27:53.032Z"
   },
   {
    "duration": -144,
    "start_time": "2021-11-24T19:27:53.034Z"
   },
   {
    "duration": -144,
    "start_time": "2021-11-24T19:27:53.036Z"
   },
   {
    "duration": 5,
    "start_time": "2021-11-24T19:28:30.234Z"
   },
   {
    "duration": 250,
    "start_time": "2021-11-24T19:28:30.243Z"
   },
   {
    "duration": 22,
    "start_time": "2021-11-24T19:28:30.497Z"
   },
   {
    "duration": 61,
    "start_time": "2021-11-24T19:28:30.522Z"
   },
   {
    "duration": 29,
    "start_time": "2021-11-24T19:28:30.586Z"
   },
   {
    "duration": 32,
    "start_time": "2021-11-24T19:28:30.617Z"
   },
   {
    "duration": 35,
    "start_time": "2021-11-24T19:28:30.651Z"
   },
   {
    "duration": 67,
    "start_time": "2021-11-24T19:28:30.689Z"
   },
   {
    "duration": 60,
    "start_time": "2021-11-24T19:28:30.760Z"
   },
   {
    "duration": 31,
    "start_time": "2021-11-24T19:28:30.823Z"
   },
   {
    "duration": 107,
    "start_time": "2021-11-24T19:28:30.857Z"
   },
   {
    "duration": 113,
    "start_time": "2021-11-24T19:28:30.967Z"
   },
   {
    "duration": 86,
    "start_time": "2021-11-24T19:28:31.082Z"
   },
   {
    "duration": 29,
    "start_time": "2021-11-24T19:28:31.171Z"
   },
   {
    "duration": 6,
    "start_time": "2021-11-24T19:28:31.203Z"
   },
   {
    "duration": 36,
    "start_time": "2021-11-24T19:28:31.211Z"
   },
   {
    "duration": 39,
    "start_time": "2021-11-24T19:28:31.249Z"
   },
   {
    "duration": 19,
    "start_time": "2021-11-24T19:28:31.290Z"
   },
   {
    "duration": 15,
    "start_time": "2021-11-24T19:28:31.311Z"
   },
   {
    "duration": 7,
    "start_time": "2021-11-24T19:28:31.329Z"
   },
   {
    "duration": 72,
    "start_time": "2021-11-24T19:28:31.338Z"
   },
   {
    "duration": 18,
    "start_time": "2021-11-24T19:28:31.413Z"
   },
   {
    "duration": 31,
    "start_time": "2021-11-24T19:28:31.434Z"
   },
   {
    "duration": 34,
    "start_time": "2021-11-24T19:28:31.468Z"
   },
   {
    "duration": 22,
    "start_time": "2021-11-24T19:28:31.505Z"
   },
   {
    "duration": 21,
    "start_time": "2021-11-24T19:28:31.530Z"
   },
   {
    "duration": 130,
    "start_time": "2021-11-24T19:28:31.556Z"
   },
   {
    "duration": 22,
    "start_time": "2021-11-24T19:28:31.688Z"
   },
   {
    "duration": 33,
    "start_time": "2021-11-24T19:28:31.713Z"
   },
   {
    "duration": 18,
    "start_time": "2021-11-24T19:28:31.748Z"
   },
   {
    "duration": 46,
    "start_time": "2021-11-24T19:28:31.769Z"
   },
   {
    "duration": 17,
    "start_time": "2021-11-24T19:28:31.818Z"
   },
   {
    "duration": 33,
    "start_time": "2021-11-24T19:28:31.837Z"
   },
   {
    "duration": 37,
    "start_time": "2021-11-24T19:28:31.872Z"
   },
   {
    "duration": 12,
    "start_time": "2021-11-24T19:28:31.912Z"
   },
   {
    "duration": 9,
    "start_time": "2021-11-24T19:28:31.926Z"
   },
   {
    "duration": 22,
    "start_time": "2021-11-24T19:28:31.937Z"
   },
   {
    "duration": 18,
    "start_time": "2021-11-24T19:28:31.961Z"
   },
   {
    "duration": 109,
    "start_time": "2021-11-24T19:34:05.329Z"
   },
   {
    "duration": 118,
    "start_time": "2021-11-24T19:34:10.654Z"
   },
   {
    "duration": 4,
    "start_time": "2021-11-24T19:34:58.620Z"
   },
   {
    "duration": 198,
    "start_time": "2021-11-24T19:34:58.626Z"
   },
   {
    "duration": 16,
    "start_time": "2021-11-24T19:34:58.827Z"
   },
   {
    "duration": 33,
    "start_time": "2021-11-24T19:34:58.846Z"
   },
   {
    "duration": 5,
    "start_time": "2021-11-24T19:34:58.901Z"
   },
   {
    "duration": 25,
    "start_time": "2021-11-24T19:34:58.908Z"
   },
   {
    "duration": 5,
    "start_time": "2021-11-24T19:34:58.936Z"
   },
   {
    "duration": 62,
    "start_time": "2021-11-24T19:34:58.943Z"
   },
   {
    "duration": 23,
    "start_time": "2021-11-24T19:34:59.009Z"
   },
   {
    "duration": 32,
    "start_time": "2021-11-24T19:34:59.036Z"
   },
   {
    "duration": 109,
    "start_time": "2021-11-24T19:34:59.071Z"
   },
   {
    "duration": 103,
    "start_time": "2021-11-24T19:34:59.183Z"
   },
   {
    "duration": 87,
    "start_time": "2021-11-24T19:34:59.289Z"
   },
   {
    "duration": 28,
    "start_time": "2021-11-24T19:34:59.378Z"
   },
   {
    "duration": 6,
    "start_time": "2021-11-24T19:34:59.409Z"
   },
   {
    "duration": 17,
    "start_time": "2021-11-24T19:34:59.418Z"
   },
   {
    "duration": 17,
    "start_time": "2021-11-24T19:34:59.437Z"
   },
   {
    "duration": 56,
    "start_time": "2021-11-24T19:34:59.457Z"
   },
   {
    "duration": 15,
    "start_time": "2021-11-24T19:34:59.516Z"
   },
   {
    "duration": 5,
    "start_time": "2021-11-24T19:34:59.533Z"
   },
   {
    "duration": 27,
    "start_time": "2021-11-24T19:34:59.540Z"
   },
   {
    "duration": 19,
    "start_time": "2021-11-24T19:34:59.601Z"
   },
   {
    "duration": 23,
    "start_time": "2021-11-24T19:34:59.622Z"
   },
   {
    "duration": 18,
    "start_time": "2021-11-24T19:34:59.648Z"
   },
   {
    "duration": 51,
    "start_time": "2021-11-24T19:34:59.668Z"
   },
   {
    "duration": 21,
    "start_time": "2021-11-24T19:34:59.721Z"
   },
   {
    "duration": 136,
    "start_time": "2021-11-24T19:34:59.749Z"
   },
   {
    "duration": 27,
    "start_time": "2021-11-24T19:34:59.888Z"
   },
   {
    "duration": 14,
    "start_time": "2021-11-24T19:34:59.917Z"
   },
   {
    "duration": 10,
    "start_time": "2021-11-24T19:34:59.934Z"
   },
   {
    "duration": 30,
    "start_time": "2021-11-24T19:34:59.946Z"
   },
   {
    "duration": 37,
    "start_time": "2021-11-24T19:34:59.978Z"
   },
   {
    "duration": 23,
    "start_time": "2021-11-24T19:35:00.018Z"
   },
   {
    "duration": 17,
    "start_time": "2021-11-24T19:35:00.043Z"
   },
   {
    "duration": 13,
    "start_time": "2021-11-24T19:35:00.099Z"
   },
   {
    "duration": 16,
    "start_time": "2021-11-24T19:35:00.114Z"
   },
   {
    "duration": 22,
    "start_time": "2021-11-24T19:35:00.132Z"
   },
   {
    "duration": 22,
    "start_time": "2021-11-24T19:35:00.157Z"
   },
   {
    "duration": 3,
    "start_time": "2021-11-24T19:44:48.266Z"
   },
   {
    "duration": 189,
    "start_time": "2021-11-24T19:44:48.272Z"
   },
   {
    "duration": 16,
    "start_time": "2021-11-24T19:44:48.464Z"
   },
   {
    "duration": 44,
    "start_time": "2021-11-24T19:44:48.483Z"
   },
   {
    "duration": 6,
    "start_time": "2021-11-24T19:44:48.529Z"
   },
   {
    "duration": 33,
    "start_time": "2021-11-24T19:44:48.537Z"
   },
   {
    "duration": 29,
    "start_time": "2021-11-24T19:44:48.573Z"
   },
   {
    "duration": 34,
    "start_time": "2021-11-24T19:44:48.604Z"
   },
   {
    "duration": 27,
    "start_time": "2021-11-24T19:44:48.642Z"
   },
   {
    "duration": 54,
    "start_time": "2021-11-24T19:44:48.672Z"
   },
   {
    "duration": 102,
    "start_time": "2021-11-24T19:44:48.728Z"
   },
   {
    "duration": 110,
    "start_time": "2021-11-24T19:44:48.833Z"
   },
   {
    "duration": 85,
    "start_time": "2021-11-24T19:44:48.946Z"
   },
   {
    "duration": 450,
    "start_time": "2021-11-24T19:44:49.033Z"
   },
   {
    "duration": 18,
    "start_time": "2021-11-24T19:44:49.468Z"
   },
   {
    "duration": 17,
    "start_time": "2021-11-24T19:44:49.470Z"
   },
   {
    "duration": 17,
    "start_time": "2021-11-24T19:44:49.472Z"
   },
   {
    "duration": 16,
    "start_time": "2021-11-24T19:44:49.474Z"
   },
   {
    "duration": 16,
    "start_time": "2021-11-24T19:44:49.476Z"
   },
   {
    "duration": 16,
    "start_time": "2021-11-24T19:44:49.477Z"
   },
   {
    "duration": 16,
    "start_time": "2021-11-24T19:44:49.479Z"
   },
   {
    "duration": 15,
    "start_time": "2021-11-24T19:44:49.481Z"
   },
   {
    "duration": 16,
    "start_time": "2021-11-24T19:44:49.482Z"
   },
   {
    "duration": -138,
    "start_time": "2021-11-24T19:44:49.638Z"
   },
   {
    "duration": -139,
    "start_time": "2021-11-24T19:44:49.640Z"
   },
   {
    "duration": -140,
    "start_time": "2021-11-24T19:44:49.642Z"
   },
   {
    "duration": -139,
    "start_time": "2021-11-24T19:44:49.643Z"
   },
   {
    "duration": -139,
    "start_time": "2021-11-24T19:44:49.645Z"
   },
   {
    "duration": -139,
    "start_time": "2021-11-24T19:44:49.646Z"
   },
   {
    "duration": -139,
    "start_time": "2021-11-24T19:44:49.648Z"
   },
   {
    "duration": -138,
    "start_time": "2021-11-24T19:44:49.649Z"
   },
   {
    "duration": -139,
    "start_time": "2021-11-24T19:44:49.651Z"
   },
   {
    "duration": -138,
    "start_time": "2021-11-24T19:44:49.652Z"
   },
   {
    "duration": -138,
    "start_time": "2021-11-24T19:44:49.653Z"
   },
   {
    "duration": -138,
    "start_time": "2021-11-24T19:44:49.655Z"
   },
   {
    "duration": -138,
    "start_time": "2021-11-24T19:44:49.656Z"
   },
   {
    "duration": -137,
    "start_time": "2021-11-24T19:44:49.657Z"
   },
   {
    "duration": -138,
    "start_time": "2021-11-24T19:44:49.659Z"
   },
   {
    "duration": 14,
    "start_time": "2021-11-24T19:45:34.955Z"
   },
   {
    "duration": 6,
    "start_time": "2021-11-24T19:47:39.315Z"
   },
   {
    "duration": 574,
    "start_time": "2021-11-25T06:34:19.195Z"
   },
   {
    "duration": 135,
    "start_time": "2021-11-25T06:34:19.771Z"
   },
   {
    "duration": 15,
    "start_time": "2021-11-25T06:34:19.908Z"
   },
   {
    "duration": 34,
    "start_time": "2021-11-25T06:34:19.925Z"
   },
   {
    "duration": 5,
    "start_time": "2021-11-25T06:34:19.961Z"
   },
   {
    "duration": 32,
    "start_time": "2021-11-25T06:34:19.968Z"
   },
   {
    "duration": 8,
    "start_time": "2021-11-25T06:34:20.001Z"
   },
   {
    "duration": 35,
    "start_time": "2021-11-25T06:34:20.011Z"
   },
   {
    "duration": 23,
    "start_time": "2021-11-25T06:34:20.049Z"
   },
   {
    "duration": 38,
    "start_time": "2021-11-25T06:34:20.075Z"
   },
   {
    "duration": 60,
    "start_time": "2021-11-25T06:34:20.115Z"
   },
   {
    "duration": 75,
    "start_time": "2021-11-25T06:34:20.177Z"
   },
   {
    "duration": 69,
    "start_time": "2021-11-25T06:34:20.254Z"
   },
   {
    "duration": 281,
    "start_time": "2021-11-25T06:34:20.325Z"
   },
   {
    "duration": 26,
    "start_time": "2021-11-25T06:34:20.583Z"
   },
   {
    "duration": 24,
    "start_time": "2021-11-25T06:34:20.586Z"
   },
   {
    "duration": 22,
    "start_time": "2021-11-25T06:34:20.588Z"
   },
   {
    "duration": 21,
    "start_time": "2021-11-25T06:34:20.590Z"
   },
   {
    "duration": 21,
    "start_time": "2021-11-25T06:34:20.592Z"
   },
   {
    "duration": 20,
    "start_time": "2021-11-25T06:34:20.594Z"
   },
   {
    "duration": 19,
    "start_time": "2021-11-25T06:34:20.596Z"
   },
   {
    "duration": 17,
    "start_time": "2021-11-25T06:34:20.598Z"
   },
   {
    "duration": 16,
    "start_time": "2021-11-25T06:34:20.600Z"
   },
   {
    "duration": 15,
    "start_time": "2021-11-25T06:34:20.602Z"
   },
   {
    "duration": 11,
    "start_time": "2021-11-25T06:34:20.607Z"
   },
   {
    "duration": 10,
    "start_time": "2021-11-25T06:34:20.609Z"
   },
   {
    "duration": 9,
    "start_time": "2021-11-25T06:34:20.611Z"
   },
   {
    "duration": 9,
    "start_time": "2021-11-25T06:34:20.612Z"
   },
   {
    "duration": 8,
    "start_time": "2021-11-25T06:34:20.614Z"
   },
   {
    "duration": 8,
    "start_time": "2021-11-25T06:34:20.615Z"
   },
   {
    "duration": 8,
    "start_time": "2021-11-25T06:34:20.616Z"
   },
   {
    "duration": 7,
    "start_time": "2021-11-25T06:34:20.618Z"
   },
   {
    "duration": 7,
    "start_time": "2021-11-25T06:34:20.619Z"
   },
   {
    "duration": 6,
    "start_time": "2021-11-25T06:34:20.621Z"
   },
   {
    "duration": -56,
    "start_time": "2021-11-25T06:34:20.684Z"
   },
   {
    "duration": -58,
    "start_time": "2021-11-25T06:34:20.687Z"
   },
   {
    "duration": -58,
    "start_time": "2021-11-25T06:34:20.688Z"
   },
   {
    "duration": -60,
    "start_time": "2021-11-25T06:34:20.691Z"
   },
   {
    "duration": -64,
    "start_time": "2021-11-25T06:34:20.696Z"
   },
   {
    "duration": 49,
    "start_time": "2021-11-25T06:35:26.422Z"
   },
   {
    "duration": 386,
    "start_time": "2021-12-07T16:21:51.597Z"
   },
   {
    "duration": 318,
    "start_time": "2021-12-07T16:22:00.628Z"
   },
   {
    "duration": 306,
    "start_time": "2021-12-07T16:22:04.547Z"
   },
   {
    "duration": 296,
    "start_time": "2021-12-07T16:31:35.127Z"
   },
   {
    "duration": 810,
    "start_time": "2021-12-07T16:31:48.196Z"
   },
   {
    "duration": 198,
    "start_time": "2021-12-07T16:31:49.008Z"
   },
   {
    "duration": 35,
    "start_time": "2021-12-07T16:31:49.209Z"
   },
   {
    "duration": 31,
    "start_time": "2021-12-07T16:31:49.247Z"
   },
   {
    "duration": 36,
    "start_time": "2021-12-07T16:31:49.281Z"
   },
   {
    "duration": 27,
    "start_time": "2021-12-07T16:31:49.319Z"
   },
   {
    "duration": 7,
    "start_time": "2021-12-07T16:31:49.348Z"
   },
   {
    "duration": 347,
    "start_time": "2021-12-07T16:31:49.358Z"
   },
   {
    "duration": -84,
    "start_time": "2021-12-07T16:31:49.793Z"
   },
   {
    "duration": -98,
    "start_time": "2021-12-07T16:31:49.808Z"
   },
   {
    "duration": -100,
    "start_time": "2021-12-07T16:31:49.811Z"
   },
   {
    "duration": -100,
    "start_time": "2021-12-07T16:31:49.813Z"
   },
   {
    "duration": -101,
    "start_time": "2021-12-07T16:31:49.815Z"
   },
   {
    "duration": -105,
    "start_time": "2021-12-07T16:31:49.821Z"
   },
   {
    "duration": -106,
    "start_time": "2021-12-07T16:31:49.823Z"
   },
   {
    "duration": -100,
    "start_time": "2021-12-07T16:31:49.825Z"
   },
   {
    "duration": -99,
    "start_time": "2021-12-07T16:31:49.827Z"
   },
   {
    "duration": -98,
    "start_time": "2021-12-07T16:31:49.828Z"
   },
   {
    "duration": -97,
    "start_time": "2021-12-07T16:31:49.830Z"
   },
   {
    "duration": -96,
    "start_time": "2021-12-07T16:31:49.831Z"
   },
   {
    "duration": -96,
    "start_time": "2021-12-07T16:31:49.833Z"
   },
   {
    "duration": -95,
    "start_time": "2021-12-07T16:31:49.834Z"
   },
   {
    "duration": -117,
    "start_time": "2021-12-07T16:31:49.858Z"
   },
   {
    "duration": -118,
    "start_time": "2021-12-07T16:31:49.862Z"
   },
   {
    "duration": -118,
    "start_time": "2021-12-07T16:31:49.864Z"
   },
   {
    "duration": -117,
    "start_time": "2021-12-07T16:31:49.865Z"
   },
   {
    "duration": -120,
    "start_time": "2021-12-07T16:31:49.870Z"
   },
   {
    "duration": -120,
    "start_time": "2021-12-07T16:31:49.872Z"
   },
   {
    "duration": -131,
    "start_time": "2021-12-07T16:31:49.886Z"
   },
   {
    "duration": -131,
    "start_time": "2021-12-07T16:31:49.888Z"
   },
   {
    "duration": -130,
    "start_time": "2021-12-07T16:31:49.889Z"
   },
   {
    "duration": -130,
    "start_time": "2021-12-07T16:31:49.891Z"
   },
   {
    "duration": -76,
    "start_time": "2021-12-07T16:31:49.892Z"
   },
   {
    "duration": -75,
    "start_time": "2021-12-07T16:31:49.893Z"
   },
   {
    "duration": -82,
    "start_time": "2021-12-07T16:31:49.902Z"
   },
   {
    "duration": -87,
    "start_time": "2021-12-07T16:31:49.910Z"
   },
   {
    "duration": -86,
    "start_time": "2021-12-07T16:31:49.911Z"
   },
   {
    "duration": -86,
    "start_time": "2021-12-07T16:31:49.913Z"
   },
   {
    "duration": -89,
    "start_time": "2021-12-07T16:31:49.918Z"
   },
   {
    "duration": 299,
    "start_time": "2021-12-07T16:32:37.296Z"
   },
   {
    "duration": 38,
    "start_time": "2021-12-07T16:32:49.215Z"
   },
   {
    "duration": 297,
    "start_time": "2021-12-07T17:04:16.198Z"
   },
   {
    "duration": 30,
    "start_time": "2021-12-07T17:04:28.675Z"
   },
   {
    "duration": 130,
    "start_time": "2022-05-09T15:14:26.340Z"
   },
   {
    "duration": 531,
    "start_time": "2022-05-09T15:14:29.413Z"
   },
   {
    "duration": 220,
    "start_time": "2022-05-09T15:14:29.947Z"
   },
   {
    "duration": 26,
    "start_time": "2022-05-09T15:14:30.169Z"
   },
   {
    "duration": 53,
    "start_time": "2022-05-09T15:14:30.198Z"
   },
   {
    "duration": 6,
    "start_time": "2022-05-09T15:14:30.254Z"
   },
   {
    "duration": 21,
    "start_time": "2022-05-09T15:14:30.262Z"
   },
   {
    "duration": 40,
    "start_time": "2022-05-09T15:14:30.286Z"
   },
   {
    "duration": 39,
    "start_time": "2022-05-09T15:14:30.328Z"
   },
   {
    "duration": 25,
    "start_time": "2022-05-09T15:14:30.369Z"
   },
   {
    "duration": 59,
    "start_time": "2022-05-09T15:14:30.396Z"
   },
   {
    "duration": 126,
    "start_time": "2022-05-09T15:14:30.457Z"
   },
   {
    "duration": 152,
    "start_time": "2022-05-09T15:14:30.585Z"
   },
   {
    "duration": 104,
    "start_time": "2022-05-09T15:14:30.739Z"
   },
   {
    "duration": 84,
    "start_time": "2022-05-09T15:14:30.850Z"
   },
   {
    "duration": 72,
    "start_time": "2022-05-09T15:14:30.936Z"
   },
   {
    "duration": 17,
    "start_time": "2022-05-09T15:14:31.010Z"
   },
   {
    "duration": 24,
    "start_time": "2022-05-09T15:14:31.030Z"
   },
   {
    "duration": 19,
    "start_time": "2022-05-09T15:14:31.057Z"
   },
   {
    "duration": 48,
    "start_time": "2022-05-09T15:14:31.079Z"
   },
   {
    "duration": 20,
    "start_time": "2022-05-09T15:14:31.130Z"
   },
   {
    "duration": 18,
    "start_time": "2022-05-09T15:14:31.153Z"
   },
   {
    "duration": 27,
    "start_time": "2022-05-09T15:14:31.173Z"
   },
   {
    "duration": 44,
    "start_time": "2022-05-09T15:14:31.203Z"
   },
   {
    "duration": 22,
    "start_time": "2022-05-09T15:14:31.250Z"
   },
   {
    "duration": 58,
    "start_time": "2022-05-09T15:14:31.274Z"
   },
   {
    "duration": 25,
    "start_time": "2022-05-09T15:14:31.335Z"
   },
   {
    "duration": 23,
    "start_time": "2022-05-09T15:14:31.363Z"
   },
   {
    "duration": 117,
    "start_time": "2022-05-09T15:14:31.424Z"
   },
   {
    "duration": 17,
    "start_time": "2022-05-09T15:14:31.544Z"
   },
   {
    "duration": 33,
    "start_time": "2022-05-09T15:14:31.564Z"
   },
   {
    "duration": 10,
    "start_time": "2022-05-09T15:14:31.600Z"
   },
   {
    "duration": 38,
    "start_time": "2022-05-09T15:14:31.625Z"
   },
   {
    "duration": 20,
    "start_time": "2022-05-09T15:14:31.666Z"
   },
   {
    "duration": 57,
    "start_time": "2022-05-09T15:14:31.688Z"
   },
   {
    "duration": 18,
    "start_time": "2022-05-09T15:14:31.748Z"
   },
   {
    "duration": 15,
    "start_time": "2022-05-09T15:14:31.768Z"
   },
   {
    "duration": 41,
    "start_time": "2022-05-09T15:14:31.786Z"
   },
   {
    "duration": 21,
    "start_time": "2022-05-09T15:14:31.829Z"
   },
   {
    "duration": 8,
    "start_time": "2022-05-09T15:14:31.852Z"
   },
   {
    "duration": 62,
    "start_time": "2022-05-10T14:57:20.807Z"
   },
   {
    "duration": 153,
    "start_time": "2022-06-22T12:21:40.599Z"
   },
   {
    "duration": 11,
    "start_time": "2022-06-22T12:21:43.834Z"
   },
   {
    "duration": 26,
    "start_time": "2022-06-22T12:21:47.090Z"
   },
   {
    "duration": 2,
    "start_time": "2022-06-22T12:21:52.724Z"
   },
   {
    "duration": 3,
    "start_time": "2022-06-22T12:21:55.905Z"
   },
   {
    "duration": 180,
    "start_time": "2022-06-22T12:21:55.910Z"
   },
   {
    "duration": 10,
    "start_time": "2022-06-22T12:21:56.092Z"
   },
   {
    "duration": 42,
    "start_time": "2022-06-22T12:21:56.103Z"
   },
   {
    "duration": 6,
    "start_time": "2022-06-22T12:21:56.148Z"
   },
   {
    "duration": 24,
    "start_time": "2022-06-22T12:21:56.155Z"
   },
   {
    "duration": 27,
    "start_time": "2022-06-22T12:21:56.181Z"
   },
   {
    "duration": 38,
    "start_time": "2022-06-22T12:21:56.210Z"
   },
   {
    "duration": 35,
    "start_time": "2022-06-22T12:21:56.249Z"
   },
   {
    "duration": 32,
    "start_time": "2022-06-22T12:21:56.285Z"
   },
   {
    "duration": 67,
    "start_time": "2022-06-22T12:21:56.320Z"
   },
   {
    "duration": 63,
    "start_time": "2022-06-22T12:21:56.388Z"
   },
   {
    "duration": 62,
    "start_time": "2022-06-22T12:21:56.452Z"
   },
   {
    "duration": 59,
    "start_time": "2022-06-22T12:21:56.525Z"
   },
   {
    "duration": 65,
    "start_time": "2022-06-22T12:21:56.587Z"
   },
   {
    "duration": 3,
    "start_time": "2022-06-22T12:21:56.654Z"
   },
   {
    "duration": 31,
    "start_time": "2022-06-22T12:21:56.659Z"
   },
   {
    "duration": 12,
    "start_time": "2022-06-22T12:21:56.692Z"
   },
   {
    "duration": 15,
    "start_time": "2022-06-22T12:21:56.706Z"
   },
   {
    "duration": 27,
    "start_time": "2022-06-22T12:21:56.723Z"
   },
   {
    "duration": 7,
    "start_time": "2022-06-22T12:21:56.752Z"
   },
   {
    "duration": 42,
    "start_time": "2022-06-22T12:21:56.761Z"
   },
   {
    "duration": 42,
    "start_time": "2022-06-22T12:21:56.805Z"
   },
   {
    "duration": 32,
    "start_time": "2022-06-22T12:21:56.849Z"
   },
   {
    "duration": 35,
    "start_time": "2022-06-22T12:21:56.883Z"
   },
   {
    "duration": 27,
    "start_time": "2022-06-22T12:21:56.920Z"
   },
   {
    "duration": 23,
    "start_time": "2022-06-22T12:21:56.949Z"
   },
   {
    "duration": 75,
    "start_time": "2022-06-22T12:21:56.973Z"
   },
   {
    "duration": 11,
    "start_time": "2022-06-22T12:21:57.051Z"
   },
   {
    "duration": 26,
    "start_time": "2022-06-22T12:21:57.063Z"
   },
   {
    "duration": 38,
    "start_time": "2022-06-22T12:21:57.091Z"
   },
   {
    "duration": 48,
    "start_time": "2022-06-22T12:21:57.131Z"
   },
   {
    "duration": 51,
    "start_time": "2022-06-22T12:21:57.181Z"
   },
   {
    "duration": 29,
    "start_time": "2022-06-22T12:21:57.234Z"
   },
   {
    "duration": 32,
    "start_time": "2022-06-22T12:21:57.264Z"
   },
   {
    "duration": 24,
    "start_time": "2022-06-22T12:21:57.297Z"
   },
   {
    "duration": 26,
    "start_time": "2022-06-22T12:21:57.322Z"
   },
   {
    "duration": 26,
    "start_time": "2022-06-22T12:21:57.349Z"
   },
   {
    "duration": 35,
    "start_time": "2022-06-22T12:21:57.376Z"
   }
  ],
  "colab": {
   "collapsed_sections": [
    "E0vqbgi9ay0H",
    "VUC88oWjTJw2"
   ],
   "name": "yandex_music_project_2021.2.ipynb",
   "provenance": []
  },
  "kernelspec": {
   "display_name": "Python 3",
   "language": "python",
   "name": "python3"
  },
  "language_info": {
   "codemirror_mode": {
    "name": "ipython",
    "version": 3
   },
   "file_extension": ".py",
   "mimetype": "text/x-python",
   "name": "python",
   "nbconvert_exporter": "python",
   "pygments_lexer": "ipython3",
   "version": "3.7.12"
  },
  "toc": {
   "base_numbering": 1,
   "nav_menu": {},
   "number_sections": true,
   "sideBar": true,
   "skip_h1_title": true,
   "title_cell": "Table of Contents",
   "title_sidebar": "Contents",
   "toc_cell": false,
   "toc_position": {
    "height": "calc(100% - 180px)",
    "left": "10px",
    "top": "150px",
    "width": "207.391px"
   },
   "toc_section_display": true,
   "toc_window_display": true
  }
 },
 "nbformat": 4,
 "nbformat_minor": 1
}
